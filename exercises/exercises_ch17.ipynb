{
 "cells": [
  {
   "cell_type": "markdown",
   "id": "super-albert",
   "metadata": {},
   "source": [
    "# Exercise 9\n",
    "Try using a denoising autoencoder to pretrain an image classifier. You can use MNIST (the simplest option), or a more complex image dataset such as CIFAR10 if you want a bigger challenge. Regardless of the dataset you’re using, follow these steps:Split the dataset into a training set and a test set.\n",
    "\n",
    "* Train a deep denoising autoencoder on the full training set. Check that the images are fairly well reconstructed.\n",
    "* Visualize the images that most activate each neuron in the coding layer. Build a classification DNN, reusing the lower layers of the autoencoder.\n",
    "* Train it using only 500 images from the training set. Does it perform better with or without pretraining?"
   ]
  },
  {
   "cell_type": "markdown",
   "id": "third-methodology",
   "metadata": {},
   "source": [
    "## Global settings"
   ]
  },
  {
   "cell_type": "code",
   "execution_count": 31,
   "id": "standing-simpson",
   "metadata": {},
   "outputs": [],
   "source": [
    "max_epochs = 1"
   ]
  },
  {
   "cell_type": "markdown",
   "id": "manufactured-reduction",
   "metadata": {},
   "source": [
    "## Load Dependencies"
   ]
  },
  {
   "cell_type": "code",
   "execution_count": 32,
   "id": "medical-scout",
   "metadata": {},
   "outputs": [],
   "source": [
    "from collections import Counter\n",
    "from functools import partial\n",
    "from tensorflow import keras\n",
    "\n",
    "import matplotlib.pyplot as plt\n",
    "import numpy as np\n",
    "import pandas as pd"
   ]
  },
  {
   "cell_type": "code",
   "execution_count": 33,
   "id": "bottom-evidence",
   "metadata": {},
   "outputs": [],
   "source": [
    "# load custom functions\n",
    "%run ./exercises_ch17.py"
   ]
  },
  {
   "cell_type": "markdown",
   "id": "hairy-disney",
   "metadata": {},
   "source": [
    "## Get CIFAR 10 data"
   ]
  },
  {
   "cell_type": "code",
   "execution_count": 34,
   "id": "warming-decline",
   "metadata": {},
   "outputs": [],
   "source": [
    "(X_train, y_train), (X_test, y_test) = get_cifar10_data()"
   ]
  },
  {
   "cell_type": "markdown",
   "id": "residential-russell",
   "metadata": {},
   "source": [
    "## Train CNN Autoencoder"
   ]
  },
  {
   "cell_type": "markdown",
   "id": "considerable-berlin",
   "metadata": {},
   "source": [
    "### Define architecture"
   ]
  },
  {
   "cell_type": "code",
   "execution_count": 35,
   "id": "defensive-genealogy",
   "metadata": {},
   "outputs": [
    {
     "data": {
      "text/plain": [
       "(50000, 32, 32, 3)"
      ]
     },
     "execution_count": 35,
     "metadata": {},
     "output_type": "execute_result"
    }
   ],
   "source": [
    "X_train.shape"
   ]
  },
  {
   "cell_type": "code",
   "execution_count": 57,
   "id": "wound-canadian",
   "metadata": {},
   "outputs": [],
   "source": [
    "cnn_layer = partial(keras.layers.Conv2D, kernel_size=3, padding='same', activation='selu')"
   ]
  },
  {
   "cell_type": "code",
   "execution_count": 58,
   "id": "indoor-detective",
   "metadata": {},
   "outputs": [],
   "source": [
    "encoder = keras.models.Sequential([\n",
    "    keras.layers.Input(shape=X_train.shape[1:]),\n",
    "    cnn_layer(filters=32),\n",
    "    keras.layers.BatchNormalization(),\n",
    "    cnn_layer(filters=32),\n",
    "    keras.layers.BatchNormalization(),\n",
    "    keras.layers.MaxPooling2D(),\n",
    "    cnn_layer(filters=64),\n",
    "    keras.layers.BatchNormalization(),\n",
    "    cnn_layer(filters=64),\n",
    "    keras.layers.BatchNormalization(),\n",
    "    keras.layers.MaxPooling2D(),\n",
    "    cnn_layer(filters=128),\n",
    "    keras.layers.BatchNormalization(),\n",
    "    cnn_layer(filters=128),\n",
    "    keras.layers.BatchNormalization(),\n",
    "    keras.layers.MaxPooling2D(),\n",
    "])"
   ]
  },
  {
   "cell_type": "code",
   "execution_count": 59,
   "id": "through-vector",
   "metadata": {},
   "outputs": [
    {
     "data": {
      "text/plain": [
       "(None, 4, 4, 128)"
      ]
     },
     "execution_count": 59,
     "metadata": {},
     "output_type": "execute_result"
    }
   ],
   "source": [
    "encoder.output_shape"
   ]
  },
  {
   "cell_type": "code",
   "execution_count": 60,
   "id": "atmospheric-columbia",
   "metadata": {},
   "outputs": [],
   "source": [
    "cnn_t_layer = partial(keras.layers.Conv2DTranspose, kernel_size=3, padding='same', activation='selu', strides=2)"
   ]
  },
  {
   "cell_type": "code",
   "execution_count": 61,
   "id": "specific-acrylic",
   "metadata": {},
   "outputs": [],
   "source": [
    "decoder = keras.models.Sequential([\n",
    "    keras.layers.Input(shape=encoder.output_shape[1:]),\n",
    "    cnn_layer(filters=64),\n",
    "    cnn_t_layer(filters=64),\n",
    "    cnn_layer(filters=32),\n",
    "    cnn_t_layer(filters=32),\n",
    "    cnn_t_layer(filters=3)\n",
    "])"
   ]
  },
  {
   "cell_type": "code",
   "execution_count": 62,
   "id": "impossible-chick",
   "metadata": {},
   "outputs": [
    {
     "data": {
      "text/plain": [
       "(None, 32, 32, 3)"
      ]
     },
     "execution_count": 62,
     "metadata": {},
     "output_type": "execute_result"
    }
   ],
   "source": [
    "decoder.output_shape"
   ]
  },
  {
   "cell_type": "code",
   "execution_count": 63,
   "id": "qualified-dollar",
   "metadata": {},
   "outputs": [
    {
     "data": {
      "text/plain": [
       "2048"
      ]
     },
     "execution_count": 63,
     "metadata": {},
     "output_type": "execute_result"
    }
   ],
   "source": [
    "4*4*128"
   ]
  },
  {
   "cell_type": "code",
   "execution_count": 64,
   "id": "thick-mistake",
   "metadata": {},
   "outputs": [],
   "source": [
    "autoencoder = keras.models.Sequential([encoder, decoder])"
   ]
  },
  {
   "cell_type": "markdown",
   "id": "realistic-marketing",
   "metadata": {},
   "source": [
    "### Train model"
   ]
  },
  {
   "cell_type": "code",
   "execution_count": 65,
   "id": "adequate-collect",
   "metadata": {},
   "outputs": [],
   "source": [
    "optimizer = keras.optimizers.Nadam()\n",
    "autoencoder.compile(optimizer=optimizer, loss='binary_crossentropy', metrics=['mse'])"
   ]
  },
  {
   "cell_type": "code",
   "execution_count": 66,
   "id": "abstract-adapter",
   "metadata": {},
   "outputs": [],
   "source": [
    "early_stopping_cb = keras.callbacks.EarlyStopping(patience=5)\n",
    "model_cb = keras.callbacks.ModelCheckpoint(filepath='cnn_autoencoder_cifar10.sav', save_best_only=True)\n",
    "callbacks = [early_stopping_cb, model_cb]"
   ]
  },
  {
   "cell_type": "code",
   "execution_count": null,
   "id": "present-office",
   "metadata": {
    "scrolled": true
   },
   "outputs": [
    {
     "name": "stdout",
     "output_type": "stream",
     "text": [
      "Train on 50000 samples, validate on 10000 samples\n",
      "17792/50000 [=========>....................] - ETA: 3:22 - loss: 1.2513 - mse: 0.1467"
     ]
    }
   ],
   "source": [
    "history = autoencoder.fit(X_train, X_train, batch_size=128, epochs=max_epochs, validation_data=(X_test, X_test), callbacks=callbacks)"
   ]
  },
  {
   "cell_type": "code",
   "execution_count": 350,
   "id": "aboriginal-sudan",
   "metadata": {},
   "outputs": [
    {
     "data": {
      "image/png": "[encoded data removed]",
      "text/plain": [
       "<Figure size 432x288 with 1 Axes>"
      ]
     },
     "metadata": {
      "needs_background": "light"
     },
     "output_type": "display_data"
    }
   ],
   "source": [
    "pd.DataFrame(history.history).plot()\n",
    "plt.show()"
   ]
  },
  {
   "cell_type": "markdown",
   "id": "imposed-heart",
   "metadata": {},
   "source": [
    "### Plot some examples"
   ]
  },
  {
   "cell_type": "code",
   "execution_count": 351,
   "id": "reasonable-alignment",
   "metadata": {},
   "outputs": [],
   "source": [
    "np.random.seed(142)\n",
    "plot_results = partial(plot_image_and_reconstruction, X=X_train, model=autoencoder)"
   ]
  },
  {
   "cell_type": "code",
   "execution_count": 352,
   "id": "black-reader",
   "metadata": {},
   "outputs": [
    {
     "data": {
      "image/png": "[encoded data removed]",
      "text/plain": [
       "<Figure size 324x216 with 3 Axes>"
      ]
     },
     "metadata": {
      "needs_background": "light"
     },
     "output_type": "display_data"
    }
   ],
   "source": [
    "plot_results()"
   ]
  },
  {
   "cell_type": "code",
   "execution_count": 353,
   "id": "worse-september",
   "metadata": {},
   "outputs": [
    {
     "data": {
      "image/png": "[encoded data removed]",
      "text/plain": [
       "<Figure size 324x216 with 3 Axes>"
      ]
     },
     "metadata": {
      "needs_background": "light"
     },
     "output_type": "display_data"
    }
   ],
   "source": [
    "plot_results()"
   ]
  },
  {
   "cell_type": "code",
   "execution_count": 354,
   "id": "pacific-pregnancy",
   "metadata": {},
   "outputs": [
    {
     "name": "stderr",
     "output_type": "stream",
     "text": [
      "Clipping input data to the valid range for imshow with RGB data ([0..1] for floats or [0..255] for integers).\n"
     ]
    },
    {
     "data": {
      "image/png": "[encoded data removed]",
      "text/plain": [
       "<Figure size 324x216 with 3 Axes>"
      ]
     },
     "metadata": {
      "needs_background": "light"
     },
     "output_type": "display_data"
    }
   ],
   "source": [
    "plot_results()"
   ]
  },
  {
   "cell_type": "code",
   "execution_count": 355,
   "id": "super-milton",
   "metadata": {},
   "outputs": [
    {
     "data": {
      "image/png": "[encoded data removed]",
      "text/plain": [
       "<Figure size 324x216 with 3 Axes>"
      ]
     },
     "metadata": {
      "needs_background": "light"
     },
     "output_type": "display_data"
    }
   ],
   "source": [
    "plot_results()"
   ]
  },
  {
   "cell_type": "code",
   "execution_count": 356,
   "id": "final-expression",
   "metadata": {},
   "outputs": [
    {
     "data": {
      "image/png": "[encoded data removed]",
      "text/plain": [
       "<Figure size 324x216 with 3 Axes>"
      ]
     },
     "metadata": {
      "needs_background": "light"
     },
     "output_type": "display_data"
    }
   ],
   "source": [
    "plot_results()"
   ]
  },
  {
   "cell_type": "code",
   "execution_count": null,
   "id": "expired-mountain",
   "metadata": {},
   "outputs": [],
   "source": []
  },
  {
   "cell_type": "code",
   "execution_count": null,
   "id": "still-factor",
   "metadata": {},
   "outputs": [],
   "source": []
  },
  {
   "cell_type": "code",
   "execution_count": 174,
   "id": "parallel-looking",
   "metadata": {},
   "outputs": [],
   "source": [
    "idx = 1"
   ]
  },
  {
   "cell_type": "code",
   "execution_count": null,
   "id": "current-despite",
   "metadata": {},
   "outputs": [],
   "source": []
  },
  {
   "cell_type": "code",
   "execution_count": 160,
   "id": "experienced-conspiracy",
   "metadata": {},
   "outputs": [],
   "source": [
    "image = X_train[idx]\n",
    "[reconstruction] = autoencoder.predict(image[np.newaxis,:])\n",
    "difference = image - reconstruction"
   ]
  },
  {
   "cell_type": "code",
   "execution_count": 161,
   "id": "operational-compromise",
   "metadata": {},
   "outputs": [
    {
     "data": {
      "text/plain": [
       "<Figure size 324x216 with 0 Axes>"
      ]
     },
     "metadata": {},
     "output_type": "display_data"
    }
   ],
   "source": []
  },
  {
   "cell_type": "code",
   "execution_count": 162,
   "id": "hollow-screw",
   "metadata": {},
   "outputs": [
    {
     "name": "stderr",
     "output_type": "stream",
     "text": [
      "Clipping input data to the valid range for imshow with RGB data ([0..1] for floats or [0..255] for integers).\n"
     ]
    },
    {
     "data": {
      "text/plain": [
       "<matplotlib.image.AxesImage at 0x14de77b3708>"
      ]
     },
     "execution_count": 162,
     "metadata": {},
     "output_type": "execute_result"
    },
    {
     "data": {
      "image/png": "[encoded data removed]",
      "text/plain": [
       "<Figure size 432x288 with 3 Axes>"
      ]
     },
     "metadata": {
      "needs_background": "light"
     },
     "output_type": "display_data"
    }
   ],
   "source": []
  },
  {
   "cell_type": "code",
   "execution_count": 156,
   "id": "intimate-valentine",
   "metadata": {},
   "outputs": [
    {
     "data": {
      "text/plain": [
       "<matplotlib.image.AxesImage at 0x14de785b8c8>"
      ]
     },
     "execution_count": 156,
     "metadata": {},
     "output_type": "execute_result"
    },
    {
     "data": {
      "image/png": "[encoded data removed]",
      "text/plain": [
       "<Figure size 432x288 with 1 Axes>"
      ]
     },
     "metadata": {
      "needs_background": "light"
     },
     "output_type": "display_data"
    }
   ],
   "source": [
    "plt\n"
   ]
  },
  {
   "cell_type": "code",
   "execution_count": null,
   "id": "medical-conversion",
   "metadata": {},
   "outputs": [],
   "source": []
  },
  {
   "cell_type": "code",
   "execution_count": null,
   "id": "invalid-spyware",
   "metadata": {},
   "outputs": [],
   "source": []
  },
  {
   "cell_type": "code",
   "execution_count": 101,
   "id": "purple-setting",
   "metadata": {},
   "outputs": [],
   "source": [
    "# get smaller training dataset to compare semi-supervised learning\n",
    "n = 512\n",
    "X_train_small, y_train_small = get_stratified_sample(n, X_train, y_train)"
   ]
  },
  {
   "cell_type": "code",
   "execution_count": 102,
   "id": "minor-lawrence",
   "metadata": {},
   "outputs": [
    {
     "data": {
      "text/plain": [
       "Counter({6: 5000,\n",
       "         9: 5000,\n",
       "         4: 5000,\n",
       "         1: 5000,\n",
       "         2: 5000,\n",
       "         7: 5000,\n",
       "         8: 5000,\n",
       "         3: 5000,\n",
       "         5: 5000,\n",
       "         0: 5000})"
      ]
     },
     "execution_count": 102,
     "metadata": {},
     "output_type": "execute_result"
    }
   ],
   "source": [
    "Counter(y_train.squeeze())"
   ]
  },
  {
   "cell_type": "code",
   "execution_count": 103,
   "id": "elegant-credits",
   "metadata": {},
   "outputs": [
    {
     "data": {
      "text/plain": [
       "Counter({5: 51, 6: 51, 4: 51, 3: 51, 8: 52, 0: 51, 7: 51, 1: 52, 2: 51, 9: 51})"
      ]
     },
     "execution_count": 103,
     "metadata": {},
     "output_type": "execute_result"
    }
   ],
   "source": [
    "Counter(y_train_small.squeeze())"
   ]
  },
  {
   "cell_type": "markdown",
   "id": "convertible-security",
   "metadata": {},
   "source": [
    "## Train CNN on reduced data"
   ]
  },
  {
   "cell_type": "code",
   "execution_count": 104,
   "id": "literary-submission",
   "metadata": {},
   "outputs": [],
   "source": []
  },
  {
   "cell_type": "code",
   "execution_count": 105,
   "id": "infinite-granny",
   "metadata": {},
   "outputs": [],
   "source": [
    "model = keras.models.Sequential([\n",
    "    keras.layers.Input(shape=X_train.shape[1:]),\n",
    "    cnn_layer(filters=16),\n",
    "    keras.layers.MaxPooling2D(),\n",
    "    cnn_layer(filters=32),\n",
    "    keras.layers.MaxPooling2D(),\n",
    "    cnn_layer(filters=64),\n",
    "    keras.layers.MaxPooling2D(),\n",
    "    keras.layers.Flatten(),\n",
    "    keras.layers.Dense(100, activation='selu'),\n",
    "    keras.layers.Dense(10, activation='softmax')\n",
    "])"
   ]
  },
  {
   "cell_type": "code",
   "execution_count": 106,
   "id": "faced-northwest",
   "metadata": {},
   "outputs": [],
   "source": []
  },
  {
   "cell_type": "code",
   "execution_count": 107,
   "id": "unexpected-juice",
   "metadata": {},
   "outputs": [],
   "source": [
    "model.compile(optimizer=optimizer, loss='sparse_categorical_crossentropy', metrics=['accuracy'])"
   ]
  },
  {
   "cell_type": "code",
   "execution_count": 108,
   "id": "attempted-village",
   "metadata": {},
   "outputs": [
    {
     "name": "stdout",
     "output_type": "stream",
     "text": [
      "Train on 512 samples, validate on 10000 samples\n",
      "Epoch 1/20\n",
      "512/512 [==============================] - 3s 6ms/sample - loss: 2.3382 - accuracy: 0.1406 - val_loss: 2.1313 - val_accuracy: 0.2057\n",
      "Epoch 2/20\n",
      "512/512 [==============================] - 2s 4ms/sample - loss: 2.0669 - accuracy: 0.2148 - val_loss: 1.9792 - val_accuracy: 0.2777\n",
      "Epoch 3/20\n",
      "512/512 [==============================] - 2s 4ms/sample - loss: 1.8363 - accuracy: 0.3516 - val_loss: 1.9286 - val_accuracy: 0.2852\n",
      "Epoch 4/20\n",
      "512/512 [==============================] - 2s 4ms/sample - loss: 1.6325 - accuracy: 0.4609 - val_loss: 1.9708 - val_accuracy: 0.2942\n",
      "Epoch 5/20\n",
      "512/512 [==============================] - 2s 4ms/sample - loss: 1.5843 - accuracy: 0.4375 - val_loss: 1.8955 - val_accuracy: 0.3293\n",
      "Epoch 6/20\n",
      "512/512 [==============================] - 2s 4ms/sample - loss: 1.5144 - accuracy: 0.4766 - val_loss: 1.7997 - val_accuracy: 0.3644\n",
      "Epoch 7/20\n",
      "512/512 [==============================] - 2s 4ms/sample - loss: 1.3002 - accuracy: 0.5762 - val_loss: 1.8120 - val_accuracy: 0.3554\n",
      "Epoch 8/20\n",
      "512/512 [==============================] - 2s 4ms/sample - loss: 1.2056 - accuracy: 0.6191 - val_loss: 1.7802 - val_accuracy: 0.3718\n",
      "Epoch 9/20\n",
      "512/512 [==============================] - 2s 4ms/sample - loss: 1.1111 - accuracy: 0.6777 - val_loss: 1.8718 - val_accuracy: 0.3466\n",
      "Epoch 10/20\n",
      "512/512 [==============================] - 2s 4ms/sample - loss: 0.9957 - accuracy: 0.7031 - val_loss: 1.8270 - val_accuracy: 0.3715\n",
      "Epoch 11/20\n",
      "512/512 [==============================] - 2s 4ms/sample - loss: 0.9551 - accuracy: 0.6797 - val_loss: 1.8229 - val_accuracy: 0.3746\n",
      "Epoch 12/20\n",
      "512/512 [==============================] - 2s 4ms/sample - loss: 0.8497 - accuracy: 0.7559 - val_loss: 1.8291 - val_accuracy: 0.3821\n",
      "Epoch 13/20\n",
      "512/512 [==============================] - 2s 4ms/sample - loss: 0.7111 - accuracy: 0.8164 - val_loss: 1.9722 - val_accuracy: 0.3472\n",
      "Epoch 14/20\n",
      "512/512 [==============================] - 2s 4ms/sample - loss: 0.6419 - accuracy: 0.8496 - val_loss: 1.9448 - val_accuracy: 0.3562\n",
      "Epoch 15/20\n",
      "512/512 [==============================] - 2s 4ms/sample - loss: 0.5857 - accuracy: 0.8691 - val_loss: 1.9363 - val_accuracy: 0.3769\n",
      "Epoch 16/20\n",
      "512/512 [==============================] - 2s 4ms/sample - loss: 0.4823 - accuracy: 0.8789 - val_loss: 1.9300 - val_accuracy: 0.3841\n",
      "Epoch 17/20\n",
      "512/512 [==============================] - 2s 4ms/sample - loss: 0.4096 - accuracy: 0.9199 - val_loss: 1.9324 - val_accuracy: 0.3882\n",
      "Epoch 18/20\n",
      "512/512 [==============================] - 2s 4ms/sample - loss: 0.3328 - accuracy: 0.9512 - val_loss: 1.9952 - val_accuracy: 0.3836\n",
      "Epoch 19/20\n",
      "512/512 [==============================] - 2s 4ms/sample - loss: 0.3030 - accuracy: 0.9512 - val_loss: 2.0758 - val_accuracy: 0.3673\n",
      "Epoch 20/20\n",
      "512/512 [==============================] - 2s 4ms/sample - loss: 0.2492 - accuracy: 0.9629 - val_loss: 2.0948 - val_accuracy: 0.3814\n"
     ]
    }
   ],
   "source": [
    "history = model.fit(X_train_small, y_train_small, batch_size=64, epochs=20, validation_data=(X_test, y_test))"
   ]
  },
  {
   "cell_type": "code",
   "execution_count": 110,
   "id": "mexican-bloom",
   "metadata": {},
   "outputs": [
    {
     "data": {
      "image/png": "[encoded data removed]",
      "text/plain": [
       "<Figure size 432x288 with 1 Axes>"
      ]
     },
     "metadata": {
      "needs_background": "light"
     },
     "output_type": "display_data"
    }
   ],
   "source": [
    "pd.DataFrame(history.history).plot()\n",
    "plt.show()"
   ]
  },
  {
   "cell_type": "markdown",
   "id": "spiritual-chocolate",
   "metadata": {},
   "source": [
    "## Train Autoencoder"
   ]
  },
  {
   "cell_type": "code",
   "execution_count": 34,
   "id": "every-tulsa",
   "metadata": {},
   "outputs": [
    {
     "data": {
      "text/plain": [
       "(50000, 32, 32, 3)"
      ]
     },
     "execution_count": 34,
     "metadata": {},
     "output_type": "execute_result"
    }
   ],
   "source": [
    "X_train.shape"
   ]
  },
  {
   "cell_type": "code",
   "execution_count": 36,
   "id": "hungarian-acrobat",
   "metadata": {},
   "outputs": [],
   "source": []
  },
  {
   "cell_type": "code",
   "execution_count": 37,
   "id": "everyday-lewis",
   "metadata": {},
   "outputs": [
    {
     "data": {
      "text/plain": [
       "(None, 4, 4, 64)"
      ]
     },
     "execution_count": 37,
     "metadata": {},
     "output_type": "execute_result"
    }
   ],
   "source": []
  },
  {
   "cell_type": "code",
   "execution_count": null,
   "id": "independent-matrix",
   "metadata": {},
   "outputs": [],
   "source": []
  },
  {
   "cell_type": "code",
   "execution_count": 38,
   "id": "mediterranean-evaluation",
   "metadata": {},
   "outputs": [],
   "source": []
  },
  {
   "cell_type": "code",
   "execution_count": 39,
   "id": "occupied-trace",
   "metadata": {},
   "outputs": [
    {
     "data": {
      "text/plain": [
       "(None, 32, 32, 3)"
      ]
     },
     "execution_count": 39,
     "metadata": {},
     "output_type": "execute_result"
    }
   ],
   "source": []
  },
  {
   "cell_type": "code",
   "execution_count": 40,
   "id": "ethical-classics",
   "metadata": {},
   "outputs": [],
   "source": []
  },
  {
   "cell_type": "code",
   "execution_count": 43,
   "id": "expanded-trigger",
   "metadata": {},
   "outputs": [],
   "source": []
  },
  {
   "cell_type": "code",
   "execution_count": 44,
   "id": "editorial-destination",
   "metadata": {},
   "outputs": [
    {
     "name": "stdout",
     "output_type": "stream",
     "text": [
      "Train on 50000 samples, validate on 10000 samples\n",
      "50000/50000 [==============================] - 57s 1ms/sample - loss: 0.5930 - mse: 0.0167 - val_loss: 0.5857 - val_mse: 0.0145\n"
     ]
    }
   ],
   "source": []
  },
  {
   "cell_type": "markdown",
   "id": "established-scholarship",
   "metadata": {},
   "source": [
    "## Apply transfer learning"
   ]
  },
  {
   "cell_type": "code",
   "execution_count": 89,
   "id": "latter-artwork",
   "metadata": {},
   "outputs": [],
   "source": [
    "transfer_model = keras.models.clone_model(encoder)"
   ]
  },
  {
   "cell_type": "code",
   "execution_count": 96,
   "id": "second-edward",
   "metadata": {},
   "outputs": [],
   "source": [
    "transfer_model.add(keras.layers.Flatten())\n",
    "transfer_model.add(keras.layers.Dense(100, activation='selu'))\n",
    "transfer_model.add(keras.layers.Dense(10, activation='softmax'))"
   ]
  },
  {
   "cell_type": "markdown",
   "id": "final-affiliate",
   "metadata": {},
   "source": [
    "Freeze pre-trained conv layers for initial training"
   ]
  },
  {
   "cell_type": "code",
   "execution_count": 97,
   "id": "insured-frame",
   "metadata": {},
   "outputs": [
    {
     "name": "stdout",
     "output_type": "stream",
     "text": [
      "Model: \"sequential_8\"\n",
      "_________________________________________________________________\n",
      "Layer (type)                 Output Shape              Param #   \n",
      "=================================================================\n",
      "conv2d_12 (Conv2D)           (None, 32, 32, 16)        448       \n",
      "_________________________________________________________________\n",
      "max_pooling2d_12 (MaxPooling (None, 16, 16, 16)        0         \n",
      "_________________________________________________________________\n",
      "conv2d_13 (Conv2D)           (None, 16, 16, 32)        4640      \n",
      "_________________________________________________________________\n",
      "max_pooling2d_13 (MaxPooling (None, 8, 8, 32)          0         \n",
      "_________________________________________________________________\n",
      "conv2d_14 (Conv2D)           (None, 8, 8, 64)          18496     \n",
      "_________________________________________________________________\n",
      "max_pooling2d_14 (MaxPooling (None, 4, 4, 64)          0         \n",
      "_________________________________________________________________\n",
      "flatten_4 (Flatten)          (None, 1024)              0         \n",
      "_________________________________________________________________\n",
      "dense_10 (Dense)             (None, 100)               102500    \n",
      "_________________________________________________________________\n",
      "dense_11 (Dense)             (None, 10)                1010      \n",
      "_________________________________________________________________\n",
      "flatten_5 (Flatten)          (None, 10)                0         \n",
      "_________________________________________________________________\n",
      "dense_12 (Dense)             (None, 100)               1100      \n",
      "_________________________________________________________________\n",
      "dense_13 (Dense)             (None, 10)                1010      \n",
      "=================================================================\n",
      "Total params: 129,204\n",
      "Trainable params: 129,204\n",
      "Non-trainable params: 0\n",
      "_________________________________________________________________\n"
     ]
    }
   ],
   "source": [
    "transfer_model.summary()"
   ]
  },
  {
   "cell_type": "code",
   "execution_count": 98,
   "id": "respiratory-parker",
   "metadata": {},
   "outputs": [],
   "source": [
    "for l in transfer_model.layers:\n",
    "    if 'conv2d' in l.name:\n",
    "        l.trainable = False"
   ]
  },
  {
   "cell_type": "code",
   "execution_count": 99,
   "id": "smooth-nutrition",
   "metadata": {},
   "outputs": [
    {
     "name": "stdout",
     "output_type": "stream",
     "text": [
      "Model: \"sequential_8\"\n",
      "_________________________________________________________________\n",
      "Layer (type)                 Output Shape              Param #   \n",
      "=================================================================\n",
      "conv2d_12 (Conv2D)           (None, 32, 32, 16)        448       \n",
      "_________________________________________________________________\n",
      "max_pooling2d_12 (MaxPooling (None, 16, 16, 16)        0         \n",
      "_________________________________________________________________\n",
      "conv2d_13 (Conv2D)           (None, 16, 16, 32)        4640      \n",
      "_________________________________________________________________\n",
      "max_pooling2d_13 (MaxPooling (None, 8, 8, 32)          0         \n",
      "_________________________________________________________________\n",
      "conv2d_14 (Conv2D)           (None, 8, 8, 64)          18496     \n",
      "_________________________________________________________________\n",
      "max_pooling2d_14 (MaxPooling (None, 4, 4, 64)          0         \n",
      "_________________________________________________________________\n",
      "flatten_4 (Flatten)          (None, 1024)              0         \n",
      "_________________________________________________________________\n",
      "dense_10 (Dense)             (None, 100)               102500    \n",
      "_________________________________________________________________\n",
      "dense_11 (Dense)             (None, 10)                1010      \n",
      "_________________________________________________________________\n",
      "flatten_5 (Flatten)          (None, 10)                0         \n",
      "_________________________________________________________________\n",
      "dense_12 (Dense)             (None, 100)               1100      \n",
      "_________________________________________________________________\n",
      "dense_13 (Dense)             (None, 10)                1010      \n",
      "=================================================================\n",
      "Total params: 129,204\n",
      "Trainable params: 105,620\n",
      "Non-trainable params: 23,584\n",
      "_________________________________________________________________\n"
     ]
    }
   ],
   "source": [
    "transfer_model.summary()"
   ]
  },
  {
   "cell_type": "code",
   "execution_count": 91,
   "id": "alive-summer",
   "metadata": {},
   "outputs": [],
   "source": [
    "l = transfer_model.layers[0]"
   ]
  },
  {
   "cell_type": "code",
   "execution_count": 100,
   "id": "celtic-interference",
   "metadata": {},
   "outputs": [],
   "source": [
    "transfer_model.compile(optimizer=optimizer, loss='sparse_categorical_crossentropy', metrics=['accuracy'])"
   ]
  },
  {
   "cell_type": "code",
   "execution_count": 101,
   "id": "statistical-cabinet",
   "metadata": {},
   "outputs": [
    {
     "name": "stdout",
     "output_type": "stream",
     "text": [
      "Train on 512 samples, validate on 10000 samples\n",
      "512/512 [==============================] - 3s 6ms/sample - loss: 2.3105 - accuracy: 0.0879 - val_loss: 2.3286 - val_accuracy: 0.1020\n"
     ]
    }
   ],
   "source": [
    "transfer_history = transfer_model.fit(X_train_small, y_train_small, batch_size=32, epochs=1, validation_data=(X_test, y_test))"
   ]
  },
  {
   "cell_type": "markdown",
   "id": "national-turkish",
   "metadata": {},
   "source": [
    "Unfreeze the last convolutional layer"
   ]
  },
  {
   "cell_type": "code",
   "execution_count": 104,
   "id": "pediatric-fusion",
   "metadata": {},
   "outputs": [],
   "source": [
    "transfer_model.layers[4].trainable = True\n",
    "transfer_model.compile(optimizer=optimizer, loss='sparse_categorical_crossentropy', metrics=['accuracy'])"
   ]
  },
  {
   "cell_type": "code",
   "execution_count": 107,
   "id": "collective-billy",
   "metadata": {},
   "outputs": [
    {
     "name": "stdout",
     "output_type": "stream",
     "text": [
      "Train on 512 samples, validate on 10000 samples\n",
      "512/512 [==============================] - 3s 6ms/sample - loss: 2.2764 - accuracy: 0.1211 - val_loss: 2.2489 - val_accuracy: 0.1333\n"
     ]
    }
   ],
   "source": [
    "transfer_history_2 = transfer_model.fit(X_train_small, y_train_small, batch_size=32, epochs=1, validation_data=(X_test, y_test))"
   ]
  },
  {
   "cell_type": "code",
   "execution_count": 108,
   "id": "expensive-rugby",
   "metadata": {},
   "outputs": [],
   "source": [
    "transfer_model.layers[2].trainable = True\n",
    "transfer_model.compile(optimizer=optimizer, loss='sparse_categorical_crossentropy', metrics=['accuracy'])"
   ]
  },
  {
   "cell_type": "code",
   "execution_count": 109,
   "id": "phantom-saudi",
   "metadata": {},
   "outputs": [
    {
     "name": "stdout",
     "output_type": "stream",
     "text": [
      "Train on 512 samples, validate on 10000 samples\n",
      "512/512 [==============================] - 3s 7ms/sample - loss: 2.3304 - accuracy: 0.1035 - val_loss: 2.2983 - val_accuracy: 0.1051\n"
     ]
    }
   ],
   "source": [
    "transfer_history_3 = transfer_model.fit(X_train_small, y_train_small, batch_size=32, epochs=1, validation_data=(X_test, y_test))"
   ]
  },
  {
   "cell_type": "code",
   "execution_count": 110,
   "id": "biblical-invasion",
   "metadata": {},
   "outputs": [],
   "source": [
    "transfer_model.layers[0].trainable = True\n",
    "transfer_model.compile(optimizer=optimizer, loss='sparse_categorical_crossentropy', metrics=['accuracy'])"
   ]
  },
  {
   "cell_type": "code",
   "execution_count": 111,
   "id": "nonprofit-northern",
   "metadata": {},
   "outputs": [
    {
     "name": "stdout",
     "output_type": "stream",
     "text": [
      "Train on 512 samples, validate on 10000 samples\n",
      "512/512 [==============================] - 3s 7ms/sample - loss: 2.2859 - accuracy: 0.1465 - val_loss: 2.2953 - val_accuracy: 0.1190\n"
     ]
    }
   ],
   "source": [
    "transfer_history_4 = transfer_model.fit(X_train_small, y_train_small, batch_size=32, epochs=1, validation_data=(X_test, y_test))"
   ]
  },
  {
   "cell_type": "code",
   "execution_count": null,
   "id": "distinct-termination",
   "metadata": {},
   "outputs": [],
   "source": []
  },
  {
   "cell_type": "code",
   "execution_count": null,
   "id": "bddb003b-20ab-40f2-9b57-d4c802a26e38",
   "metadata": {},
   "outputs": [],
   "source": []
  },
  {
   "cell_type": "code",
   "execution_count": null,
   "id": "0bc6d874-79c1-4ba3-ab5b-d8383abe3dac",
   "metadata": {},
   "outputs": [],
   "source": []
  },
  {
   "cell_type": "code",
   "execution_count": null,
   "id": "01e69f5e-2f9f-4d6e-bf53-fb5c4a1c29c0",
   "metadata": {},
   "outputs": [],
   "source": []
  },
  {
   "cell_type": "code",
   "execution_count": null,
   "id": "7b6fe20e-1f7a-4316-8790-2835f41d1c43",
   "metadata": {},
   "outputs": [],
   "source": []
  },
  {
   "cell_type": "markdown",
   "id": "8a93bfd2-748f-4e6f-ad15-bf2b8a20b619",
   "metadata": {},
   "source": [
    "## Exercise 17\n",
    "\n",
    "\n",
    "Train a DCGAN to tackle the image dataset of your choice, and use it to generate images. Add experience replay and see if this helps. Turn it into a conditional GAN where you can control the generated class."
   ]
  },
  {
   "cell_type": "markdown",
   "id": "4e93e6c7-b6d7-4e6d-a069-7626197e0105",
   "metadata": {},
   "source": [
    "Here are the main guidelines they proposed for building stable convolutional GANs:\n",
    "* Replace any pooling layers with strided convolutions (in the discriminator) and transposed convolutions (in the generator).\n",
    "* Use Batch Normalization in both the generator and the discriminator, except in the generator’s output layer and the discriminator’s input layer.\n",
    "* Remove fully connected hidden layers for deeper architectures.\n",
    "* Use ReLU activation in the generator for all layers except the output layer, which should use tanh.\n",
    "* Use leaky ReLU activation in the discriminator for all layers."
   ]
  },
  {
   "cell_type": "markdown",
   "id": "e3eaccb6-7769-4004-a181-f25923b76bdf",
   "metadata": {},
   "source": [
    "It is also useful to add label noise for the discriminator and dropout. As training of a GAN is stochastic, it can get stuck in all sorts of ways. Adding stochasticity to training helps.\n",
    "Also, one should take care to use a kernel size that is divisible by the stride, otherwise one often sees checkerboard artifacts due to unequal coverage of the pixel space in the generator. This means that in GANs, it is common to see even kernel sizes."
   ]
  },
  {
   "cell_type": "markdown",
   "id": "238b1f39-bc87-4110-a4a8-3df236783b50",
   "metadata": {},
   "source": [
    "### Dependencies"
   ]
  },
  {
   "cell_type": "code",
   "execution_count": 4,
   "id": "5b621214-7369-4127-84b7-2139c338c6c4",
   "metadata": {},
   "outputs": [],
   "source": [
    "from tensorflow import keras\n",
    "import numpy as np"
   ]
  },
  {
   "cell_type": "code",
   "execution_count": 1,
   "id": "22a3360d-fee0-4d96-a7c6-a3d497a79f54",
   "metadata": {},
   "outputs": [],
   "source": [
    "# load custom functions\n",
    "%run ./exercises_ch17.py"
   ]
  },
  {
   "cell_type": "markdown",
   "id": "4777cb2e-85cc-4396-b016-441efb20eb9b",
   "metadata": {},
   "source": [
    "## Get CIFAR 10 data"
   ]
  },
  {
   "cell_type": "code",
   "execution_count": 39,
   "id": "5455ac9c-b1ed-430f-92a1-8b26b8042027",
   "metadata": {},
   "outputs": [],
   "source": [
    "(X_train, y_train), (X_test, y_test) = get_cifar10_data()"
   ]
  },
  {
   "cell_type": "code",
   "execution_count": 3,
   "id": "7ba673c2-aaec-4a48-9686-dd68506b210e",
   "metadata": {},
   "outputs": [
    {
     "data": {
      "text/plain": [
       "(50000, 32, 32, 3)"
      ]
     },
     "execution_count": 3,
     "metadata": {},
     "output_type": "execute_result"
    }
   ],
   "source": [
    "X_train.shape"
   ]
  },
  {
   "cell_type": "markdown",
   "id": "e82180f0-ff35-4bfb-9bed-64fb705c70bb",
   "metadata": {},
   "source": [
    "1. A _generator_ that takes input of shape `(latent_dim,)` and produces output with shape `(32,32,3)` and values in [-1,1]\n",
    "2. A _discriminator that takes input of shape `(32,32,3)` and produces a binary score in [0,1], the probability that the input is real.\n",
    "3. A _GAN_ network that chains the discriminator and the generator, i.e. GAN(x) = discriminator(generator(x))\n",
    "4. The training loop: Part 1 holds the generator fixed and improves the discriminator based on 50/50 real and fake data. Part 2 holds the discriminator fixed and improves the generator based on a purely fake sample. "
   ]
  },
  {
   "cell_type": "code",
   "execution_count": 5,
   "id": "ff5fac08-a8d1-4214-9d0b-2318c2b20ca3",
   "metadata": {},
   "outputs": [],
   "source": [
    "latent_dim = 32\n",
    "image_dim = X_train.shape[1:]"
   ]
  },
  {
   "cell_type": "code",
   "execution_count": 16,
   "id": "1514f75d-9ca2-4179-9007-c3013d3f8a43",
   "metadata": {},
   "outputs": [],
   "source": [
    "generator = keras.models.Sequential([\n",
    "    keras.layers.Dense(16*16*128, input_shape=(latent_dim,)),\n",
    "    keras.layers.BatchNormalization(),\n",
    "    keras.layers.ReLU(),\n",
    "    keras.layers.Reshape((16,16,128)),\n",
    "    keras.layers.Conv2D(256, kernel_size=5, strides=1, padding='same'),\n",
    "    keras.layers.BatchNormalization(),\n",
    "    keras.layers.ReLU(),\n",
    "    keras.layers.Conv2DTranspose(256, kernel_size=4, strides=2, padding='same'),\n",
    "    keras.layers.BatchNormalization(),\n",
    "    keras.layers.ReLU(),\n",
    "    keras.layers.Conv2D(256, 5, padding='same'),\n",
    "    keras.layers.BatchNormalization(),\n",
    "    keras.layers.ReLU(),\n",
    "    keras.layers.Conv2D(256, 5, padding='same'),\n",
    "    keras.layers.BatchNormalization(),\n",
    "    keras.layers.ReLU(),\n",
    "    keras.layers.Conv2D(3, 7, padding='same', activation='tanh')\n",
    "])"
   ]
  },
  {
   "cell_type": "code",
   "execution_count": 17,
   "id": "1570af15-0f5c-4247-b775-befd393ccf1b",
   "metadata": {},
   "outputs": [
    {
     "name": "stdout",
     "output_type": "stream",
     "text": [
      "Model: \"sequential_4\"\n",
      "_________________________________________________________________\n",
      "Layer (type)                 Output Shape              Param #   \n",
      "=================================================================\n",
      "dense_7 (Dense)              (None, 32768)             1081344   \n",
      "_________________________________________________________________\n",
      "batch_normalization_9 (Batch (None, 32768)             131072    \n",
      "_________________________________________________________________\n",
      "re_lu_5 (ReLU)               (None, 32768)             0         \n",
      "_________________________________________________________________\n",
      "reshape_4 (Reshape)          (None, 16, 16, 128)       0         \n",
      "_________________________________________________________________\n",
      "conv2d_18 (Conv2D)           (None, 16, 16, 256)       819456    \n",
      "_________________________________________________________________\n",
      "batch_normalization_10 (Batc (None, 16, 16, 256)       1024      \n",
      "_________________________________________________________________\n",
      "re_lu_6 (ReLU)               (None, 16, 16, 256)       0         \n",
      "_________________________________________________________________\n",
      "conv2d_transpose_3 (Conv2DTr (None, 32, 32, 256)       1048832   \n",
      "_________________________________________________________________\n",
      "batch_normalization_11 (Batc (None, 32, 32, 256)       1024      \n",
      "_________________________________________________________________\n",
      "re_lu_7 (ReLU)               (None, 32, 32, 256)       0         \n",
      "_________________________________________________________________\n",
      "conv2d_19 (Conv2D)           (None, 32, 32, 256)       1638656   \n",
      "_________________________________________________________________\n",
      "batch_normalization_12 (Batc (None, 32, 32, 256)       1024      \n",
      "_________________________________________________________________\n",
      "re_lu_8 (ReLU)               (None, 32, 32, 256)       0         \n",
      "_________________________________________________________________\n",
      "conv2d_20 (Conv2D)           (None, 32, 32, 256)       1638656   \n",
      "_________________________________________________________________\n",
      "batch_normalization_13 (Batc (None, 32, 32, 256)       1024      \n",
      "_________________________________________________________________\n",
      "re_lu_9 (ReLU)               (None, 32, 32, 256)       0         \n",
      "_________________________________________________________________\n",
      "conv2d_21 (Conv2D)           (None, 32, 32, 3)         37635     \n",
      "=================================================================\n",
      "Total params: 6,399,747\n",
      "Trainable params: 6,332,163\n",
      "Non-trainable params: 67,584\n",
      "_________________________________________________________________\n"
     ]
    }
   ],
   "source": [
    "generator.summary()"
   ]
  },
  {
   "cell_type": "code",
   "execution_count": 15,
   "id": "c0969673-2529-4003-9ecd-25ca4a62a341",
   "metadata": {},
   "outputs": [],
   "source": [
    "discriminator = keras.models.Sequential([\n",
    "    keras.layers.Conv2D(128, 3, input_shape=image_dim),\n",
    "    keras.layers.BatchNormalization(),\n",
    "    keras.layers.LeakyReLU(),\n",
    "    keras.layers.Conv2D(128, kernel_size=4, strides=2),\n",
    "    keras.layers.BatchNormalization(),\n",
    "    keras.layers.LeakyReLU(),\n",
    "    keras.layers.Conv2D(128, kernel_size=4, strides=2),\n",
    "    keras.layers.BatchNormalization(),\n",
    "    keras.layers.LeakyReLU(),\n",
    "    keras.layers.Conv2D(128, kernel_size=4, strides=2),\n",
    "    keras.layers.BatchNormalization(),\n",
    "    keras.layers.LeakyReLU(),\n",
    "    keras.layers.Flatten(),\n",
    "    keras.layers.Dropout(0.4),\n",
    "    keras.layers.Dense(1, activation='sigmoid')\n",
    "])"
   ]
  },
  {
   "cell_type": "code",
   "execution_count": 14,
   "id": "883b9af6-afac-4ed9-827e-4e390cc90460",
   "metadata": {},
   "outputs": [
    {
     "name": "stdout",
     "output_type": "stream",
     "text": [
      "Model: \"sequential_2\"\n",
      "_________________________________________________________________\n",
      "Layer (type)                 Output Shape              Param #   \n",
      "=================================================================\n",
      "conv2d_10 (Conv2D)           (None, 30, 30, 128)       3584      \n",
      "_________________________________________________________________\n",
      "leaky_re_lu_10 (LeakyReLU)   (None, 30, 30, 128)       0         \n",
      "_________________________________________________________________\n",
      "conv2d_11 (Conv2D)           (None, 14, 14, 128)       262272    \n",
      "_________________________________________________________________\n",
      "leaky_re_lu_11 (LeakyReLU)   (None, 14, 14, 128)       0         \n",
      "_________________________________________________________________\n",
      "conv2d_12 (Conv2D)           (None, 6, 6, 128)         262272    \n",
      "_________________________________________________________________\n",
      "leaky_re_lu_12 (LeakyReLU)   (None, 6, 6, 128)         0         \n",
      "_________________________________________________________________\n",
      "conv2d_13 (Conv2D)           (None, 2, 2, 128)         262272    \n",
      "_________________________________________________________________\n",
      "leaky_re_lu_13 (LeakyReLU)   (None, 2, 2, 128)         0         \n",
      "_________________________________________________________________\n",
      "flatten (Flatten)            (None, 512)               0         \n",
      "_________________________________________________________________\n",
      "dropout (Dropout)            (None, 512)               0         \n",
      "_________________________________________________________________\n",
      "dense_5 (Dense)              (None, 1)                 513       \n",
      "=================================================================\n",
      "Total params: 790,913\n",
      "Trainable params: 790,913\n",
      "Non-trainable params: 0\n",
      "_________________________________________________________________\n"
     ]
    }
   ],
   "source": [
    "discriminator.summary()"
   ]
  },
  {
   "cell_type": "code",
   "execution_count": 18,
   "id": "8f59f1eb-02f8-4320-98f7-0076b5e8d26a",
   "metadata": {},
   "outputs": [],
   "source": [
    "discriminator_optimizer = keras.optimizers.RMSprop(lr=0.0008, clipvalue=1.0, decay=1e-8)"
   ]
  },
  {
   "cell_type": "code",
   "execution_count": 19,
   "id": "25cd9d7e-1bd8-4f01-96fc-0616a03cb1bb",
   "metadata": {},
   "outputs": [],
   "source": [
    "discriminator.compile(optimizer=discriminator_optimizer, loss='binary_crossentropy')"
   ]
  },
  {
   "cell_type": "markdown",
   "id": "90384ea5-6bea-4557-bbc8-8cd156e90cb3",
   "metadata": {},
   "source": [
    "### GAN"
   ]
  },
  {
   "cell_type": "code",
   "execution_count": 20,
   "id": "818d7265-abb1-42a7-ba3b-b589168061d7",
   "metadata": {},
   "outputs": [],
   "source": [
    "discriminator.trainable = False"
   ]
  },
  {
   "cell_type": "code",
   "execution_count": 21,
   "id": "d559cab5-c92c-4f4c-92cc-571a96b40d48",
   "metadata": {},
   "outputs": [],
   "source": [
    "gan_input = keras.Input(shape=(latent_dim,))\n",
    "gan_output = discriminator(generator(gan_input))\n",
    "gan = keras.models.Model(gan_input, gan_output)"
   ]
  },
  {
   "cell_type": "code",
   "execution_count": 22,
   "id": "fafe6a80-717a-4197-914f-8123052f1200",
   "metadata": {},
   "outputs": [],
   "source": [
    "gan_optimizer = keras.optimizers.RMSprop(lr=0.0004, clipvalue=1.0, decay=1e-8)"
   ]
  },
  {
   "cell_type": "code",
   "execution_count": 23,
   "id": "bc983cfe-a775-442c-96e5-0a367d6d6d0f",
   "metadata": {},
   "outputs": [],
   "source": [
    "gan.compile(optimizer=gan_optimizer, loss='binary_crossentropy')"
   ]
  },
  {
   "cell_type": "markdown",
   "id": "1f58c60f-c31a-4315-92ab-8361b728b95b",
   "metadata": {},
   "source": [
    "### Train GAN"
   ]
  },
  {
   "cell_type": "code",
   "execution_count": 40,
   "id": "d5ada733-d136-4ea7-91c6-a4c568fb9509",
   "metadata": {},
   "outputs": [],
   "source": [
    "X_train = X_train * 2. - 1.\n",
    "X_test = X_test * 2. - 1."
   ]
  },
  {
   "cell_type": "code",
   "execution_count": 41,
   "id": "bf0ae660-b511-4981-89c4-1de9424213ab",
   "metadata": {},
   "outputs": [],
   "source": [
    "import tensorflow as tf"
   ]
  },
  {
   "cell_type": "code",
   "execution_count": 42,
   "id": "d55acdda-b9b1-40b7-adb2-4180ac128446",
   "metadata": {},
   "outputs": [],
   "source": [
    "batch_size = 32\n",
    "dataset = tf.data.Dataset.from_tensor_slices(X_train)\n",
    "dataset = dataset.shuffle(1000)\n",
    "dataset = dataset.batch(batch_size, drop_remainder=True).prefetch(1)"
   ]
  },
  {
   "cell_type": "code",
   "execution_count": 43,
   "id": "7235533d-37ec-4c23-b131-9eafac8093fb",
   "metadata": {},
   "outputs": [],
   "source": [
    "epochs = 10"
   ]
  },
  {
   "cell_type": "code",
   "execution_count": null,
   "id": "4081e4df-0096-49b7-9618-0a540e36d13d",
   "metadata": {},
   "outputs": [
    {
     "name": "stdout",
     "output_type": "stream",
     "text": [
      "Starting Epoch: 0 **************************************************************************************************************************************************************************************************************************************************************************************************************************************************************************************************************************************************************************************************************************************************************************************************************************************************************************************************************************************************************************************************************************************************************************************************************************************************************************************************************************************************************************************************************************************************************************************************************************************************************************************************************************************************************************************************************************************************************************************************************************************************************************************************************************\n",
      "Starting Epoch: 1 **************************************************************************************************************************************************************************************************************************************************************************************************************************************************************************************************************************************************************************************************************************************************************************************************************************************************************************************************************************************************************************************************************************************************************************************************************************************************************************************************************************************************************************************************************************************************************************************************************************************************************************************************************************************************************************************************************************************************************************************************************************************************************************************************************************\n",
      "Starting Epoch: 2 **************************************************************************************************************************************************************************************************************************************************************************************************************************************************************************************************************************************************************************************************************************************************************************************************************************************************************************************************************************************************************************************************************************************************************************************************************************************************************************************************************************************************************************************************************************************************************************************************************************************************************************************************************************************************************************************************************************************************************************************************************************************************************************************************************************\n",
      "Starting Epoch: 3 **************************************************************************************************************************************************************************************************************************************************************************************************************************************************************************************************************************************************************************************************************************************************************************************************************************************************************************************************************************************************************************************************************************************************************************************************************************************************************************************************************************************************************************************************************************************************************************************************************************************************************************************************************************************************************************************************************************************************************************************************************************************************************************************************************************\n",
      "Starting Epoch: 4 **************************************************************************************************************************************************************************************************************************************************************************************************************************************************************************************************************************************************************************************************************************************************************************************************************************************************************************************************************************************************************************************************************************************************************************************************************************************************************************************************************************************************************************************************************************************************************************************************************************************************************************************************************************************************************************************************************************************************************************************************************************************************************************************************************************\n",
      "Starting Epoch: 5 **********************************************************************************************************"
     ]
    }
   ],
   "source": [
    "for epoch in range(epochs):\n",
    "    print('Starting Epoch: {}'.format(epoch), end=' ')\n",
    "    for X_batch in dataset:\n",
    "        print('*', end='')\n",
    "        # phase 1 - training the discriminator\n",
    "        latent_vectors = tf.random.normal(shape=[batch_size, latent_dim])\n",
    "        generated_images = generator(latent_vectors)\n",
    "        X_fake_and_real = tf.concat([generated_images, X_batch], axis=0)\n",
    "        y1 = tf.constant([[0.]] * batch_size + [[1.]] * batch_size)\n",
    "        y1 += 0.05 * tf.random.uniform(tf.shape(y1))\n",
    "        discriminator.trainable = True\n",
    "        discriminator.train_on_batch(X_fake_and_real, y1)\n",
    "        # phase 2 - training the generator\n",
    "        noise = tf.random.normal(shape=[batch_size, latent_dim])\n",
    "        y2 = tf.constant([[1.]] * batch_size)\n",
    "        discriminator.trainable = False\n",
    "        gan.train_on_batch(noise, y2)\n",
    "    print('')"
   ]
  },
  {
   "cell_type": "code",
   "execution_count": null,
   "id": "0fa299da-5084-4158-868f-06c2558cec9d",
   "metadata": {},
   "outputs": [],
   "source": []
  },
  {
   "cell_type": "code",
   "execution_count": null,
   "id": "df731f23-3073-424b-af1b-8ca5f7550dda",
   "metadata": {},
   "outputs": [],
   "source": [
    "batch_size = 32\n",
    "epochs = 10"
   ]
  }
 ],
 "metadata": {
  "kernelspec": {
   "display_name": "tf2",
   "language": "python",
   "name": "tf2"
  },
  "language_info": {
   "codemirror_mode": {
    "name": "ipython",
    "version": 3
   },
   "file_extension": ".py",
   "mimetype": "text/x-python",
   "name": "python",
   "nbconvert_exporter": "python",
   "pygments_lexer": "ipython3",
   "version": "3.7.10"
  }
 },
 "nbformat": 4,
 "nbformat_minor": 5
}
