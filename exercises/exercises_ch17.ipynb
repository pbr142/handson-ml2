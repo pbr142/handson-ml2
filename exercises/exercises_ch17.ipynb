{
 "cells": [
  {
   "cell_type": "markdown",
   "id": "informed-tunnel",
   "metadata": {},
   "source": [
    "# Exercise 9\n",
    "Try using a denoising autoencoder to pretrain an image classifier. You can use MNIST (the simplest option), or a more complex image dataset such as CIFAR10 if you want a bigger challenge. Regardless of the dataset you’re using, follow these steps:Split the dataset into a training set and a test set.\n",
    "\n",
    "* Train a deep denoising autoencoder on the full training set.Check that the images are fairly well reconstructed.\n",
    "* Visualize the images that most activate each neuron in the coding layer.Build a classification DNN, reusing the lower layers of the autoencoder.\n",
    "* Train it using only 500 images from the training set. Does it perform better with or without pretraining?"
   ]
  },
  {
   "cell_type": "markdown",
   "id": "daily-ranking",
   "metadata": {},
   "source": [
    "## Load Dependencies"
   ]
  },
  {
   "cell_type": "code",
   "execution_count": 57,
   "id": "interpreted-territory",
   "metadata": {},
   "outputs": [],
   "source": [
    "from functools import partial\n",
    "from tensorflow import keras\n",
    "\n",
    "import collections\n",
    "import numpy as np\n",
    "import pandas as pd"
   ]
  },
  {
   "cell_type": "markdown",
   "id": "described-violence",
   "metadata": {},
   "source": [
    "## Get CIFAR 10 data"
   ]
  },
  {
   "cell_type": "code",
   "execution_count": 32,
   "id": "national-corrections",
   "metadata": {},
   "outputs": [],
   "source": [
    "(X_train, y_train), (X_test, y_test) = keras.datasets.cifar10.load_data()"
   ]
  },
  {
   "cell_type": "code",
   "execution_count": 33,
   "id": "particular-bangkok",
   "metadata": {},
   "outputs": [],
   "source": [
    "X_train = (X_train / 255.).astype('float32')\n",
    "X_test = (X_test / 255.).astype('float32')"
   ]
  },
  {
   "cell_type": "code",
   "execution_count": 74,
   "id": "broad-invite",
   "metadata": {},
   "outputs": [],
   "source": [
    "np.random.seed(42)\n",
    "n = 512\n",
    "idx = np.random.choice(len(X_train), size=n, replace=False)"
   ]
  },
  {
   "cell_type": "code",
   "execution_count": 75,
   "id": "amateur-liberia",
   "metadata": {},
   "outputs": [
    {
     "data": {
      "text/plain": [
       "Counter({7: 62, 8: 53, 0: 42, 6: 47, 1: 50, 5: 49, 2: 46, 4: 52, 3: 57, 9: 54})"
      ]
     },
     "execution_count": 75,
     "metadata": {},
     "output_type": "execute_result"
    }
   ],
   "source": [
    "collections.Counter(y_train[idx].squeeze())"
   ]
  },
  {
   "cell_type": "code",
   "execution_count": 76,
   "id": "cutting-chapter",
   "metadata": {},
   "outputs": [],
   "source": [
    "X_train_small = X_train[idx]\n",
    "y_train_small = y_train[idx]"
   ]
  },
  {
   "cell_type": "markdown",
   "id": "permanent-campbell",
   "metadata": {},
   "source": [
    "## Train CNN on reduced data"
   ]
  },
  {
   "cell_type": "code",
   "execution_count": 77,
   "id": "prospective-alignment",
   "metadata": {},
   "outputs": [],
   "source": [
    "cnn_layer = partial(keras.layers.Conv2D, kernel_size=3, padding='same', activation='selu')"
   ]
  },
  {
   "cell_type": "code",
   "execution_count": 78,
   "id": "careful-replacement",
   "metadata": {},
   "outputs": [],
   "source": [
    "model = keras.models.Sequential([\n",
    "    keras.layers.Input(shape=X_train.shape[1:]),\n",
    "    cnn_layer(filters=16),\n",
    "    keras.layers.MaxPooling2D(),\n",
    "    cnn_layer(filters=32),\n",
    "    keras.layers.MaxPooling2D(),\n",
    "    cnn_layer(filters=64),\n",
    "    keras.layers.MaxPooling2D(),\n",
    "    keras.layers.Flatten(),\n",
    "    keras.layers.Dense(100, activation='selu'),\n",
    "    keras.layers.Dense(10, activation='softmax')\n",
    "])"
   ]
  },
  {
   "cell_type": "code",
   "execution_count": 79,
   "id": "golden-range",
   "metadata": {},
   "outputs": [],
   "source": [
    "optimizer = keras.optimizers.Nadam(learning_rate=0.001)"
   ]
  },
  {
   "cell_type": "code",
   "execution_count": 80,
   "id": "external-switch",
   "metadata": {},
   "outputs": [],
   "source": [
    "model.compile(optimizer=optimizer, loss='sparse_categorical_crossentropy', metrics=['accuracy'])"
   ]
  },
  {
   "cell_type": "code",
   "execution_count": 81,
   "id": "saved-nebraska",
   "metadata": {},
   "outputs": [
    {
     "name": "stdout",
     "output_type": "stream",
     "text": [
      "Train on 512 samples, validate on 10000 samples\n",
      "512/512 [==============================] - 3s 6ms/sample - loss: 2.1904 - accuracy: 0.1680 - val_loss: 2.0014 - val_accuracy: 0.2766\n"
     ]
    }
   ],
   "source": [
    "history = model.fit(X_train_small, y_train_small, batch_size=32, epochs=1, validation_data=(X_test, y_test))"
   ]
  },
  {
   "cell_type": "code",
   "execution_count": null,
   "id": "silver-documentary",
   "metadata": {},
   "outputs": [],
   "source": [
    "pd.DataFrame(history.history).plot()\n",
    "plt.show()"
   ]
  },
  {
   "cell_type": "markdown",
   "id": "adapted-remains",
   "metadata": {},
   "source": [
    "## Train Autoencoder"
   ]
  },
  {
   "cell_type": "code",
   "execution_count": 34,
   "id": "dietary-russia",
   "metadata": {},
   "outputs": [
    {
     "data": {
      "text/plain": [
       "(50000, 32, 32, 3)"
      ]
     },
     "execution_count": 34,
     "metadata": {},
     "output_type": "execute_result"
    }
   ],
   "source": [
    "X_train.shape"
   ]
  },
  {
   "cell_type": "code",
   "execution_count": 36,
   "id": "compliant-wales",
   "metadata": {},
   "outputs": [],
   "source": [
    "encoder = keras.models.Sequential([\n",
    "    keras.layers.Input(shape=X_train.shape[1:]),\n",
    "    cnn_layer(filters=16),\n",
    "    keras.layers.MaxPooling2D(),\n",
    "    cnn_layer(filters=32),\n",
    "    keras.layers.MaxPooling2D(),\n",
    "    cnn_layer(filters=64),\n",
    "    keras.layers.MaxPooling2D(),\n",
    "])"
   ]
  },
  {
   "cell_type": "code",
   "execution_count": 37,
   "id": "developed-imaging",
   "metadata": {},
   "outputs": [
    {
     "data": {
      "text/plain": [
       "(None, 4, 4, 64)"
      ]
     },
     "execution_count": 37,
     "metadata": {},
     "output_type": "execute_result"
    }
   ],
   "source": [
    "encoder.output_shape"
   ]
  },
  {
   "cell_type": "code",
   "execution_count": null,
   "id": "major-russia",
   "metadata": {},
   "outputs": [],
   "source": [
    "cnn_t_layer = partial(keras.layers.Conv2DTranspose, kernel_size=3, padding='same', activation='selu', strides=2)"
   ]
  },
  {
   "cell_type": "code",
   "execution_count": 38,
   "id": "fluid-elite",
   "metadata": {},
   "outputs": [],
   "source": [
    "decoder = keras.models.Sequential([\n",
    "    keras.layers.Input(shape=encoder.output_shape[1:]),\n",
    "    cnn_t_layer(filters=32),\n",
    "    cnn_t_layer(filters=16),\n",
    "    cnn_t_layer(filters=3)\n",
    "])"
   ]
  },
  {
   "cell_type": "code",
   "execution_count": 39,
   "id": "obvious-snake",
   "metadata": {},
   "outputs": [
    {
     "data": {
      "text/plain": [
       "(None, 32, 32, 3)"
      ]
     },
     "execution_count": 39,
     "metadata": {},
     "output_type": "execute_result"
    }
   ],
   "source": [
    "decoder.output_shape"
   ]
  },
  {
   "cell_type": "code",
   "execution_count": 40,
   "id": "radical-disposition",
   "metadata": {},
   "outputs": [],
   "source": [
    "autoencoder = keras.models.Sequential([encoder, decoder])"
   ]
  },
  {
   "cell_type": "code",
   "execution_count": 43,
   "id": "prerequisite-debut",
   "metadata": {},
   "outputs": [],
   "source": [
    "autoencoder.compile(optimizer=optimizer, loss='binary_crossentropy', metrics=['mse'])"
   ]
  },
  {
   "cell_type": "code",
   "execution_count": 44,
   "id": "understood-village",
   "metadata": {},
   "outputs": [
    {
     "name": "stdout",
     "output_type": "stream",
     "text": [
      "Train on 50000 samples, validate on 10000 samples\n",
      "50000/50000 [==============================] - 57s 1ms/sample - loss: 0.5930 - mse: 0.0167 - val_loss: 0.5857 - val_mse: 0.0145\n"
     ]
    }
   ],
   "source": [
    "history = autoencoder.fit(X_train, X_train, batch_size=32, epochs=1, validation_data=(X_test, X_test))"
   ]
  },
  {
   "cell_type": "markdown",
   "id": "stylish-russell",
   "metadata": {},
   "source": [
    "## Apply transfer learning"
   ]
  },
  {
   "cell_type": "code",
   "execution_count": 89,
   "id": "wrapped-madonna",
   "metadata": {},
   "outputs": [],
   "source": [
    "transfer_model = keras.models.clone_model(encoder)"
   ]
  },
  {
   "cell_type": "code",
   "execution_count": 96,
   "id": "honest-argument",
   "metadata": {},
   "outputs": [],
   "source": [
    "transfer_model.add(keras.layers.Flatten())\n",
    "transfer_model.add(keras.layers.Dense(100, activation='selu'))\n",
    "transfer_model.add(keras.layers.Dense(10, activation='softmax'))"
   ]
  },
  {
   "cell_type": "markdown",
   "id": "compliant-arbitration",
   "metadata": {},
   "source": [
    "Freeze pre-trained conv layers for initial training"
   ]
  },
  {
   "cell_type": "code",
   "execution_count": 97,
   "id": "utility-thermal",
   "metadata": {},
   "outputs": [
    {
     "name": "stdout",
     "output_type": "stream",
     "text": [
      "Model: \"sequential_8\"\n",
      "_________________________________________________________________\n",
      "Layer (type)                 Output Shape              Param #   \n",
      "=================================================================\n",
      "conv2d_12 (Conv2D)           (None, 32, 32, 16)        448       \n",
      "_________________________________________________________________\n",
      "max_pooling2d_12 (MaxPooling (None, 16, 16, 16)        0         \n",
      "_________________________________________________________________\n",
      "conv2d_13 (Conv2D)           (None, 16, 16, 32)        4640      \n",
      "_________________________________________________________________\n",
      "max_pooling2d_13 (MaxPooling (None, 8, 8, 32)          0         \n",
      "_________________________________________________________________\n",
      "conv2d_14 (Conv2D)           (None, 8, 8, 64)          18496     \n",
      "_________________________________________________________________\n",
      "max_pooling2d_14 (MaxPooling (None, 4, 4, 64)          0         \n",
      "_________________________________________________________________\n",
      "flatten_4 (Flatten)          (None, 1024)              0         \n",
      "_________________________________________________________________\n",
      "dense_10 (Dense)             (None, 100)               102500    \n",
      "_________________________________________________________________\n",
      "dense_11 (Dense)             (None, 10)                1010      \n",
      "_________________________________________________________________\n",
      "flatten_5 (Flatten)          (None, 10)                0         \n",
      "_________________________________________________________________\n",
      "dense_12 (Dense)             (None, 100)               1100      \n",
      "_________________________________________________________________\n",
      "dense_13 (Dense)             (None, 10)                1010      \n",
      "=================================================================\n",
      "Total params: 129,204\n",
      "Trainable params: 129,204\n",
      "Non-trainable params: 0\n",
      "_________________________________________________________________\n"
     ]
    }
   ],
   "source": [
    "transfer_model.summary()"
   ]
  },
  {
   "cell_type": "code",
   "execution_count": 98,
   "id": "together-dimension",
   "metadata": {},
   "outputs": [],
   "source": [
    "for l in transfer_model.layers:\n",
    "    if 'conv2d' in l.name:\n",
    "        l.trainable = False"
   ]
  },
  {
   "cell_type": "code",
   "execution_count": 99,
   "id": "surface-compact",
   "metadata": {},
   "outputs": [
    {
     "name": "stdout",
     "output_type": "stream",
     "text": [
      "Model: \"sequential_8\"\n",
      "_________________________________________________________________\n",
      "Layer (type)                 Output Shape              Param #   \n",
      "=================================================================\n",
      "conv2d_12 (Conv2D)           (None, 32, 32, 16)        448       \n",
      "_________________________________________________________________\n",
      "max_pooling2d_12 (MaxPooling (None, 16, 16, 16)        0         \n",
      "_________________________________________________________________\n",
      "conv2d_13 (Conv2D)           (None, 16, 16, 32)        4640      \n",
      "_________________________________________________________________\n",
      "max_pooling2d_13 (MaxPooling (None, 8, 8, 32)          0         \n",
      "_________________________________________________________________\n",
      "conv2d_14 (Conv2D)           (None, 8, 8, 64)          18496     \n",
      "_________________________________________________________________\n",
      "max_pooling2d_14 (MaxPooling (None, 4, 4, 64)          0         \n",
      "_________________________________________________________________\n",
      "flatten_4 (Flatten)          (None, 1024)              0         \n",
      "_________________________________________________________________\n",
      "dense_10 (Dense)             (None, 100)               102500    \n",
      "_________________________________________________________________\n",
      "dense_11 (Dense)             (None, 10)                1010      \n",
      "_________________________________________________________________\n",
      "flatten_5 (Flatten)          (None, 10)                0         \n",
      "_________________________________________________________________\n",
      "dense_12 (Dense)             (None, 100)               1100      \n",
      "_________________________________________________________________\n",
      "dense_13 (Dense)             (None, 10)                1010      \n",
      "=================================================================\n",
      "Total params: 129,204\n",
      "Trainable params: 105,620\n",
      "Non-trainable params: 23,584\n",
      "_________________________________________________________________\n"
     ]
    }
   ],
   "source": [
    "transfer_model.summary()"
   ]
  },
  {
   "cell_type": "code",
   "execution_count": 91,
   "id": "level-classification",
   "metadata": {},
   "outputs": [],
   "source": [
    "l = transfer_model.layers[0]"
   ]
  },
  {
   "cell_type": "code",
   "execution_count": 100,
   "id": "dedicated-source",
   "metadata": {},
   "outputs": [],
   "source": [
    "transfer_model.compile(optimizer=optimizer, loss='sparse_categorical_crossentropy', metrics=['accuracy'])"
   ]
  },
  {
   "cell_type": "code",
   "execution_count": 101,
   "id": "informative-support",
   "metadata": {},
   "outputs": [
    {
     "name": "stdout",
     "output_type": "stream",
     "text": [
      "Train on 512 samples, validate on 10000 samples\n",
      "512/512 [==============================] - 3s 6ms/sample - loss: 2.3105 - accuracy: 0.0879 - val_loss: 2.3286 - val_accuracy: 0.1020\n"
     ]
    }
   ],
   "source": [
    "transfer_history = transfer_model.fit(X_train_small, y_train_small, batch_size=32, epochs=1, validation_data=(X_test, y_test))"
   ]
  },
  {
   "cell_type": "markdown",
   "id": "silent-biotechnology",
   "metadata": {},
   "source": [
    "Unfreeze the last convolutional layer"
   ]
  },
  {
   "cell_type": "code",
   "execution_count": 104,
   "id": "naked-springer",
   "metadata": {},
   "outputs": [],
   "source": [
    "transfer_model.layers[4].trainable = True\n",
    "transfer_model.compile(optimizer=optimizer, loss='sparse_categorical_crossentropy', metrics=['accuracy'])"
   ]
  },
  {
   "cell_type": "code",
   "execution_count": 107,
   "id": "alternate-automation",
   "metadata": {},
   "outputs": [
    {
     "name": "stdout",
     "output_type": "stream",
     "text": [
      "Train on 512 samples, validate on 10000 samples\n",
      "512/512 [==============================] - 3s 6ms/sample - loss: 2.2764 - accuracy: 0.1211 - val_loss: 2.2489 - val_accuracy: 0.1333\n"
     ]
    }
   ],
   "source": [
    "transfer_history_2 = transfer_model.fit(X_train_small, y_train_small, batch_size=32, epochs=1, validation_data=(X_test, y_test))"
   ]
  },
  {
   "cell_type": "code",
   "execution_count": 108,
   "id": "editorial-industry",
   "metadata": {},
   "outputs": [],
   "source": [
    "transfer_model.layers[2].trainable = True\n",
    "transfer_model.compile(optimizer=optimizer, loss='sparse_categorical_crossentropy', metrics=['accuracy'])"
   ]
  },
  {
   "cell_type": "code",
   "execution_count": 109,
   "id": "allied-hungary",
   "metadata": {},
   "outputs": [
    {
     "name": "stdout",
     "output_type": "stream",
     "text": [
      "Train on 512 samples, validate on 10000 samples\n",
      "512/512 [==============================] - 3s 7ms/sample - loss: 2.3304 - accuracy: 0.1035 - val_loss: 2.2983 - val_accuracy: 0.1051\n"
     ]
    }
   ],
   "source": [
    "transfer_history_3 = transfer_model.fit(X_train_small, y_train_small, batch_size=32, epochs=1, validation_data=(X_test, y_test))"
   ]
  },
  {
   "cell_type": "code",
   "execution_count": 110,
   "id": "following-newport",
   "metadata": {},
   "outputs": [],
   "source": [
    "transfer_model.layers[0].trainable = True\n",
    "transfer_model.compile(optimizer=optimizer, loss='sparse_categorical_crossentropy', metrics=['accuracy'])"
   ]
  },
  {
   "cell_type": "code",
   "execution_count": 111,
   "id": "owned-night",
   "metadata": {},
   "outputs": [
    {
     "name": "stdout",
     "output_type": "stream",
     "text": [
      "Train on 512 samples, validate on 10000 samples\n",
      "512/512 [==============================] - 3s 7ms/sample - loss: 2.2859 - accuracy: 0.1465 - val_loss: 2.2953 - val_accuracy: 0.1190\n"
     ]
    }
   ],
   "source": [
    "transfer_history_4 = transfer_model.fit(X_train_small, y_train_small, batch_size=32, epochs=1, validation_data=(X_test, y_test))"
   ]
  },
  {
   "cell_type": "code",
   "execution_count": null,
   "id": "honest-photography",
   "metadata": {},
   "outputs": [],
   "source": []
  }
 ],
 "metadata": {
  "kernelspec": {
   "display_name": "tf2",
   "language": "python",
   "name": "tf2"
  },
  "language_info": {
   "codemirror_mode": {
    "name": "ipython",
    "version": 3
   },
   "file_extension": ".py",
   "mimetype": "text/x-python",
   "name": "python",
   "nbconvert_exporter": "python",
   "pygments_lexer": "ipython3",
   "version": "3.7.9"
  }
 },
 "nbformat": 4,
 "nbformat_minor": 5
}
