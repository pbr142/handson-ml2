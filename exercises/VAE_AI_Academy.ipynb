{
  "nbformat": 4,
  "nbformat_minor": 0,
  "metadata": {
    "colab": {
      "name": "VAE_AI_Academy.ipynb",
      "provenance": [],
      "authorship_tag": "ABX9TyOXlca8kBPUykeRpcyzZhoy",
      "include_colab_link": true
    },
    "kernelspec": {
      "name": "python3",
      "display_name": "Python 3"
    },
    "language_info": {
      "name": "python"
    },
    "accelerator": "GPU"
  },
  "cells": [
    {
      "cell_type": "markdown",
      "metadata": {
        "id": "view-in-github",
        "colab_type": "text"
      },
      "source": [
        "<a href=\"https://colab.research.google.com/github/pbr142/handson-ml2/blob/master/exercises/VAE_AI_Academy.ipynb\" target=\"_parent\"><img src=\"https://colab.research.google.com/assets/colab-badge.svg\" alt=\"Open In Colab\"/></a>"
      ]
    },
    {
      "cell_type": "markdown",
      "metadata": {
        "id": "EydvMzQyC-xI"
      },
      "source": [
        "# Variational Autoencoder for Image Generation"
      ]
    },
    {
      "cell_type": "markdown",
      "metadata": {
        "id": "z7dm-roLFwKd"
      },
      "source": [
        "Train a variational autoencoder on the image dataset of your choice, and use it to generate images. Alternatively, you can try to find an unlabeled dataset that you are interested in and see if you can generate new samples."
      ]
    },
    {
      "cell_type": "code",
      "metadata": {
        "id": "dIO41vGyDVnv"
      },
      "source": [
        "from tensorflow import keras"
      ],
      "execution_count": 1,
      "outputs": []
    },
    {
      "cell_type": "code",
      "metadata": {
        "colab": {
          "base_uri": "https://localhost:8080/",
          "height": 35
        },
        "id": "3KtZ7BksDg7G",
        "outputId": "d5f7b0e7-0407-43d6-b679-ea05a64d022e"
      },
      "source": [
        "keras.__version__"
      ],
      "execution_count": 2,
      "outputs": [
        {
          "output_type": "execute_result",
          "data": {
            "application/vnd.google.colaboratory.intrinsic+json": {
              "type": "string"
            },
            "text/plain": [
              "'2.4.0'"
            ]
          },
          "metadata": {
            "tags": []
          },
          "execution_count": 2
        }
      ]
    },
    {
      "cell_type": "code",
      "metadata": {
        "colab": {
          "base_uri": "https://localhost:8080/"
        },
        "id": "1fvU1YULDV1d",
        "outputId": "27f13067-83b2-437e-bc64-f2bab3d8b269"
      },
      "source": [
        "from google.colab import drive\n",
        "drive.mount('/content/gdrive')"
      ],
      "execution_count": 3,
      "outputs": [
        {
          "output_type": "stream",
          "text": [
            "Mounted at /content/gdrive\n"
          ],
          "name": "stdout"
        }
      ]
    },
    {
      "cell_type": "markdown",
      "metadata": {
        "id": "AEiyDT-pDV30"
      },
      "source": [
        "## Load data"
      ]
    },
    {
      "cell_type": "code",
      "metadata": {
        "colab": {
          "base_uri": "https://localhost:8080/"
        },
        "id": "IfF-pfKxFk0R",
        "outputId": "56142f75-1cd7-4b1e-a3b9-e88d55b5328f"
      },
      "source": [
        "(X_train, y_train), (X_test, y_test) = keras.datasets.cifar10.load_data()"
      ],
      "execution_count": 4,
      "outputs": [
        {
          "output_type": "stream",
          "text": [
            "Downloading data from https://www.cs.toronto.edu/~kriz/cifar-10-python.tar.gz\n",
            "170500096/170498071 [==============================] - 11s 0us/step\n"
          ],
          "name": "stdout"
        }
      ]
    },
    {
      "cell_type": "code",
      "metadata": {
        "id": "A5s1vej_Fk5m"
      },
      "source": [
        "X_train = X_train.astype('float32') / 255.\n",
        "X_test = X_test.astype('float32') / 255."
      ],
      "execution_count": 5,
      "outputs": []
    },
    {
      "cell_type": "code",
      "metadata": {
        "id": "con0V6zsFk7t"
      },
      "source": [
        "FINAL = True"
      ],
      "execution_count": 6,
      "outputs": []
    },
    {
      "cell_type": "code",
      "metadata": {
        "id": "4b1LxgwnGN3f"
      },
      "source": [
        "if not FINAL:\n",
        "    n_train = 1000\n",
        "    n_test = 100\n",
        "    X_train = X_train[:n_train]\n",
        "    y_train = y_train[:n_train]\n",
        "    X_test = X_test[:n_test]\n",
        "    y_test = y_test[:n_test]"
      ],
      "execution_count": 7,
      "outputs": []
    },
    {
      "cell_type": "code",
      "metadata": {
        "colab": {
          "base_uri": "https://localhost:8080/"
        },
        "id": "03lL5G06Ga4p",
        "outputId": "3ffc5991-1acb-4c69-8909-c0cdd3b9c04e"
      },
      "source": [
        "X_train.shape"
      ],
      "execution_count": 8,
      "outputs": [
        {
          "output_type": "execute_result",
          "data": {
            "text/plain": [
              "(50000, 32, 32, 3)"
            ]
          },
          "metadata": {
            "tags": []
          },
          "execution_count": 8
        }
      ]
    },
    {
      "cell_type": "code",
      "metadata": {
        "id": "RvLIJhlFFk9v"
      },
      "source": [
        "import matplotlib.pyplot as plt"
      ],
      "execution_count": 9,
      "outputs": []
    },
    {
      "cell_type": "code",
      "metadata": {
        "colab": {
          "base_uri": "https://localhost:8080/",
          "height": 283
        },
        "id": "cG2uEBB0Fk_-",
        "outputId": "b5fc15e0-5efa-4fb1-f5df-737b05bfb514"
      },
      "source": [
        "plt.imshow(X_train[28])"
      ],
      "execution_count": 10,
      "outputs": [
        {
          "output_type": "execute_result",
          "data": {
            "text/plain": [
              "<matplotlib.image.AxesImage at 0x7f44f3701850>"
            ]
          },
          "metadata": {
            "tags": []
          },
          "execution_count": 10
        },
        {
          "output_type": "display_data",
          "data": {
            "image/png": "[encoded data removed]",
            "text/plain": [
              "<Figure size 432x288 with 1 Axes>"
            ]
          },
          "metadata": {
            "tags": [],
            "needs_background": "light"
          }
        }
      ]
    },
    {
      "cell_type": "markdown",
      "metadata": {
        "id": "2gYmwTyoFlBX"
      },
      "source": [
        "## Build VAE"
      ]
    },
    {
      "cell_type": "code",
      "metadata": {
        "id": "nq9EgirkGtut"
      },
      "source": [
        "K = keras.backend\n",
        "\n",
        "class Sampling(keras.layers.Layer):\n",
        "    def call(self, inputs):\n",
        "        z_mean, z_log_var = inputs\n",
        "        epsilon = K.random_normal(shape=K.shape(z_mean))\n",
        "        return z_mean + K.exp(0.5 * z_log_var) * epsilon"
      ],
      "execution_count": 11,
      "outputs": []
    },
    {
      "cell_type": "code",
      "metadata": {
        "id": "0a19k-iXH-rq"
      },
      "source": [
        "inputs = keras.layers.Input(shape=X_train.shape[1:])\n",
        "conv1 = keras.layers.Conv2D(32, 3, strides=2, padding='same', activation='relu')(inputs)\n",
        "conv2 = keras.layers.Conv2D(128, 3, strides=2, padding='same', activation='relu')(conv1)\n",
        "flat = keras.layers.Flatten()(conv2)\n",
        "dense = keras.layers.Dense(128, activation='relu')(flat)\n",
        "z_mean = keras.layers.Dense(64)(dense)\n",
        "z_log_var = keras.layers.Dense(64)(dense)\n",
        "z = Sampling()([z_mean, z_log_var])\n",
        "encoder = keras.models.Model(inputs=[inputs], outputs=[z_mean, z_log_var, z], name='encoder')"
      ],
      "execution_count": 12,
      "outputs": []
    },
    {
      "cell_type": "code",
      "metadata": {
        "colab": {
          "base_uri": "https://localhost:8080/"
        },
        "id": "2e0nEQIBJTFB",
        "outputId": "698068c0-c5fc-4def-aad4-d0cb8c51a8f6"
      },
      "source": [
        "encoder.summary()"
      ],
      "execution_count": 13,
      "outputs": [
        {
          "output_type": "stream",
          "text": [
            "Model: \"encoder\"\n",
            "__________________________________________________________________________________________________\n",
            "Layer (type)                    Output Shape         Param #     Connected to                     \n",
            "==================================================================================================\n",
            "input_1 (InputLayer)            [(None, 32, 32, 3)]  0                                            \n",
            "__________________________________________________________________________________________________\n",
            "conv2d (Conv2D)                 (None, 16, 16, 32)   896         input_1[0][0]                    \n",
            "__________________________________________________________________________________________________\n",
            "conv2d_1 (Conv2D)               (None, 8, 8, 128)    36992       conv2d[0][0]                     \n",
            "__________________________________________________________________________________________________\n",
            "flatten (Flatten)               (None, 8192)         0           conv2d_1[0][0]                   \n",
            "__________________________________________________________________________________________________\n",
            "dense (Dense)                   (None, 128)          1048704     flatten[0][0]                    \n",
            "__________________________________________________________________________________________________\n",
            "dense_1 (Dense)                 (None, 64)           8256        dense[0][0]                      \n",
            "__________________________________________________________________________________________________\n",
            "dense_2 (Dense)                 (None, 64)           8256        dense[0][0]                      \n",
            "__________________________________________________________________________________________________\n",
            "sampling (Sampling)             (None, 64)           0           dense_1[0][0]                    \n",
            "                                                                 dense_2[0][0]                    \n",
            "==================================================================================================\n",
            "Total params: 1,103,104\n",
            "Trainable params: 1,103,104\n",
            "Non-trainable params: 0\n",
            "__________________________________________________________________________________________________\n"
          ],
          "name": "stdout"
        }
      ]
    },
    {
      "cell_type": "code",
      "metadata": {
        "id": "Il8Y2Fp9Hu1a"
      },
      "source": [
        "decoder_inputs = keras.layers.Input(shape=[64])\n",
        "decoder_dense = keras.layers.Dense(128, activation='relu')(decoder_inputs)\n",
        "decoder_dense2 = keras.layers.Dense(8192, activation='relu')(decoder_dense)\n",
        "reshape = keras.layers.Reshape(target_shape=[8,8,128])(decoder_dense2)\n",
        "conv1_t = keras.layers.Conv2DTranspose(32, 3, strides=2, padding='same', activation='relu')(reshape)\n",
        "conv2_t = keras.layers.Conv2DTranspose(3, 3, strides=2, padding='same', activation='relu')(conv1_t)\n",
        "decoder = keras.models.Model(inputs=[decoder_inputs], outputs=[conv2_t])"
      ],
      "execution_count": 14,
      "outputs": []
    },
    {
      "cell_type": "code",
      "metadata": {
        "colab": {
          "base_uri": "https://localhost:8080/"
        },
        "id": "RQi9DEPnK1G6",
        "outputId": "a6d795a0-3487-45d5-c2da-3325567d51a3"
      },
      "source": [
        "decoder.summary()"
      ],
      "execution_count": 15,
      "outputs": [
        {
          "output_type": "stream",
          "text": [
            "Model: \"model\"\n",
            "_________________________________________________________________\n",
            "Layer (type)                 Output Shape              Param #   \n",
            "=================================================================\n",
            "input_2 (InputLayer)         [(None, 64)]              0         \n",
            "_________________________________________________________________\n",
            "dense_3 (Dense)              (None, 128)               8320      \n",
            "_________________________________________________________________\n",
            "dense_4 (Dense)              (None, 8192)              1056768   \n",
            "_________________________________________________________________\n",
            "reshape (Reshape)            (None, 8, 8, 128)         0         \n",
            "_________________________________________________________________\n",
            "conv2d_transpose (Conv2DTran (None, 16, 16, 32)        36896     \n",
            "_________________________________________________________________\n",
            "conv2d_transpose_1 (Conv2DTr (None, 32, 32, 3)         867       \n",
            "=================================================================\n",
            "Total params: 1,102,851\n",
            "Trainable params: 1,102,851\n",
            "Non-trainable params: 0\n",
            "_________________________________________________________________\n"
          ],
          "name": "stdout"
        }
      ]
    },
    {
      "cell_type": "code",
      "metadata": {
        "id": "chTXUagTGtxu"
      },
      "source": [
        "_, _, codings = encoder(inputs)\n",
        "reconstructions = decoder(codings)\n",
        "vae = keras.models.Model(inputs=[inputs], outputs=[reconstructions])"
      ],
      "execution_count": 16,
      "outputs": []
    },
    {
      "cell_type": "code",
      "metadata": {
        "colab": {
          "base_uri": "https://localhost:8080/"
        },
        "id": "nt8kI5lQLebQ",
        "outputId": "4a527ac8-5c03-4fd1-86fb-d21641099123"
      },
      "source": [
        "vae.summary()"
      ],
      "execution_count": 17,
      "outputs": [
        {
          "output_type": "stream",
          "text": [
            "Model: \"model_1\"\n",
            "_________________________________________________________________\n",
            "Layer (type)                 Output Shape              Param #   \n",
            "=================================================================\n",
            "input_1 (InputLayer)         [(None, 32, 32, 3)]       0         \n",
            "_________________________________________________________________\n",
            "encoder (Functional)         [(None, 64), (None, 64),  1103104   \n",
            "_________________________________________________________________\n",
            "model (Functional)           (None, 32, 32, 3)         1102851   \n",
            "=================================================================\n",
            "Total params: 2,205,955\n",
            "Trainable params: 2,205,955\n",
            "Non-trainable params: 0\n",
            "_________________________________________________________________\n"
          ],
          "name": "stdout"
        }
      ]
    },
    {
      "cell_type": "code",
      "metadata": {
        "id": "JAwmZ5oVGtzw"
      },
      "source": [
        "latent_loss = -0.5 * K.sum(1 + z_log_var - K.exp(z_log_var) - K.square(z_mean), axis=-1)\n",
        "vae.add_loss(K.mean(latent_loss) / (32*32*3))"
      ],
      "execution_count": 18,
      "outputs": []
    },
    {
      "cell_type": "code",
      "metadata": {
        "id": "psFHBSC6MLrm"
      },
      "source": [
        "vae.compile(loss='binary_crossentropy', optimizer='NAdam', metrics=['mse'])"
      ],
      "execution_count": 19,
      "outputs": []
    },
    {
      "cell_type": "code",
      "metadata": {
        "id": "WUk21QmPMWp1"
      },
      "source": [
        "model_cb = keras.callbacks.ModelCheckpoint('/content/gdrive/MyDrive/Projects/VAE/vae_cifar10_session.ckpt')"
      ],
      "execution_count": 20,
      "outputs": []
    },
    {
      "cell_type": "code",
      "metadata": {
        "colab": {
          "base_uri": "https://localhost:8080/"
        },
        "id": "yrfSUaSSMi-e",
        "outputId": "525ea871-4398-4baf-d472-ce70720e343f"
      },
      "source": [
        "history = vae.fit(X_train, X_train, epochs=5, batch_size=256, validation_data=(X_test, X_test), callbacks=[model_cb])"
      ],
      "execution_count": 21,
      "outputs": [
        {
          "output_type": "stream",
          "text": [
            "196/196 [==============================] - 41s 48ms/step - loss: 1.5489 - mse: 0.1178 - val_loss: 0.6705 - val_mse: 0.0487\n",
            "INFO:tensorflow:Assets written to: /content/gdrive/MyDrive/Projects/VAE/vae_cifar10_session.ckpt/assets\n",
            "Epoch 2/5\n",
            "196/196 [==============================] - 9s 44ms/step - loss: 0.6622 - mse: 0.0457 - val_loss: 0.6639 - val_mse: 0.0471\n",
            "INFO:tensorflow:Assets written to: /content/gdrive/MyDrive/Projects/VAE/vae_cifar10_session.ckpt/assets\n",
            "Epoch 3/5\n",
            "196/196 [==============================] - 8s 43ms/step - loss: 0.6493 - mse: 0.0386 - val_loss: 0.6385 - val_mse: 0.0333\n",
            "INFO:tensorflow:Assets written to: /content/gdrive/MyDrive/Projects/VAE/vae_cifar10_session.ckpt/assets\n",
            "Epoch 4/5\n",
            "196/196 [==============================] - 9s 43ms/step - loss: 0.6417 - mse: 0.0352 - val_loss: 0.6467 - val_mse: 0.0374\n",
            "INFO:tensorflow:Assets written to: /content/gdrive/MyDrive/Projects/VAE/vae_cifar10_session.ckpt/assets\n",
            "Epoch 5/5\n",
            "196/196 [==============================] - 8s 43ms/step - loss: 0.6363 - mse: 0.0326 - val_loss: 0.6336 - val_mse: 0.0320\n",
            "INFO:tensorflow:Assets written to: /content/gdrive/MyDrive/Projects/VAE/vae_cifar10_session.ckpt/assets\n"
          ],
          "name": "stdout"
        }
      ]
    },
    {
      "cell_type": "code",
      "metadata": {
        "id": "yKIZJrarOh2V"
      },
      "source": [
        "y_pred = vae.predict(X_test[0:2])"
      ],
      "execution_count": 28,
      "outputs": []
    },
    {
      "cell_type": "code",
      "metadata": {
        "colab": {
          "base_uri": "https://localhost:8080/",
          "height": 169
        },
        "id": "z2KpoF05Gt13",
        "outputId": "a0400602-ef29-43da-e30b-1f565d6a1072"
      },
      "source": [
        "ind = 0\n",
        "plt.figure(figsize= (4,2))\n",
        "plt.subplot(1,2, 1)\n",
        "plt.imshow(X_test[ind])\n",
        "plt.subplot(1,2,2)\n",
        "plt.imshow(y_pred[0])"
      ],
      "execution_count": 29,
      "outputs": [
        {
          "output_type": "execute_result",
          "data": {
            "text/plain": [
              "<matplotlib.image.AxesImage at 0x7f443f513ad0>"
            ]
          },
          "metadata": {
            "tags": []
          },
          "execution_count": 29
        },
        {
          "output_type": "display_data",
          "data": {
            "image/png": "[encoded data removed]",
            "text/plain": [
              "<Figure size 288x144 with 2 Axes>"
            ]
          },
          "metadata": {
            "tags": [],
            "needs_background": "light"
          }
        }
      ]
    },
    {
      "cell_type": "code",
      "metadata": {
        "id": "Unhwok_EOQK_"
      },
      "source": [
        ""
      ],
      "execution_count": null,
      "outputs": []
    }
  ]
}