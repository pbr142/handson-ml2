{
 "cells": [
  {
   "cell_type": "markdown",
   "metadata": {},
   "source": [
    "# Chapter 16"
   ]
  },
  {
   "cell_type": "markdown",
   "metadata": {},
   "source": [
    "# Exercise 8"
   ]
  },
  {
   "cell_type": "markdown",
   "metadata": {},
   "source": [
    "Embedded Reber grammars were used by Hochreiter and Schmidhuber in their paper about LSTMs. They are artificial grammars that produce strings such as “BPBTSXXVPSEPE.” Check out Jenny Orr’s nice introduction to this topic. Choose a particular embedded Reber grammar (such as the one represented on Jenny Orr’s page), then train an RNN to identify whether a string respects that grammar or not. You will first need to write a function capable of generating a training batch containing about 50% strings that respect the grammar, and 50% that don’t."
   ]
  },
  {
   "cell_type": "code",
   "execution_count": 1,
   "metadata": {},
   "outputs": [],
   "source": [
    "from collections import defaultdict\n",
    "from random import choice, random, sample\n",
    "from tensorflow import keras\n",
    "\n",
    "import tensorflow as tf"
   ]
  },
  {
   "cell_type": "code",
   "execution_count": 2,
   "metadata": {},
   "outputs": [],
   "source": [
    "from reber import *"
   ]
  },
  {
   "cell_type": "markdown",
   "metadata": {},
   "source": [
    "## Reber"
   ]
  },
  {
   "cell_type": "code",
   "execution_count": 3,
   "metadata": {},
   "outputs": [],
   "source": [
    "reber_edges = ((0,1,'B'), (1,2,'T'), (1,3,'P'), (2,2,'S'), (2,4,'X'), (3,3,'T'), (3,5,'V'), (4,3,'X'), (4,6,'S'), (5,4,'P'), (5,6,'V'), (6,None,'E'))"
   ]
  },
  {
   "cell_type": "code",
   "execution_count": 4,
   "metadata": {},
   "outputs": [],
   "source": [
    "node_dict = dict_from_edges(reber_edges)"
   ]
  },
  {
   "cell_type": "code",
   "execution_count": 5,
   "metadata": {},
   "outputs": [
    {
     "data": {
      "text/plain": [
       "defaultdict(list,\n",
       "            {0: [(1, 'B')],\n",
       "             1: [(2, 'T'), (3, 'P')],\n",
       "             2: [(2, 'S'), (4, 'X')],\n",
       "             3: [(3, 'T'), (5, 'V')],\n",
       "             4: [(3, 'X'), (6, 'S')],\n",
       "             5: [(4, 'P'), (6, 'V')],\n",
       "             6: [(None, 'E')]})"
      ]
     },
     "execution_count": 5,
     "metadata": {},
     "output_type": "execute_result"
    }
   ],
   "source": [
    "node_dict"
   ]
  },
  {
   "cell_type": "code",
   "execution_count": 6,
   "metadata": {},
   "outputs": [],
   "source": [
    "sentence = generate_sentence(node_dict)"
   ]
  },
  {
   "cell_type": "code",
   "execution_count": 7,
   "metadata": {},
   "outputs": [
    {
     "data": {
      "text/plain": [
       "((0, 1, 'B'), (1, 3, 'P'), (3, 5, 'V'), (5, 6, 'V'), (6, None, 'E'))"
      ]
     },
     "execution_count": 7,
     "metadata": {},
     "output_type": "execute_result"
    }
   ],
   "source": [
    "sentence"
   ]
  },
  {
   "cell_type": "code",
   "execution_count": 8,
   "metadata": {},
   "outputs": [
    {
     "data": {
      "text/plain": [
       "'BPVVE'"
      ]
     },
     "execution_count": 8,
     "metadata": {},
     "output_type": "execute_result"
    }
   ],
   "source": [
    "string_from_sentence(sentence)"
   ]
  },
  {
   "cell_type": "code",
   "execution_count": 9,
   "metadata": {},
   "outputs": [
    {
     "data": {
      "text/plain": [
       "'PVBE'"
      ]
     },
     "execution_count": 9,
     "metadata": {},
     "output_type": "execute_result"
    }
   ],
   "source": [
    "unique_letters(sentence)"
   ]
  },
  {
   "cell_type": "code",
   "execution_count": 10,
   "metadata": {},
   "outputs": [
    {
     "data": {
      "text/plain": [
       "'VEXTPSB'"
      ]
     },
     "execution_count": 10,
     "metadata": {},
     "output_type": "execute_result"
    }
   ],
   "source": [
    "unique_letters(reber_edges)"
   ]
  },
  {
   "cell_type": "code",
   "execution_count": 11,
   "metadata": {},
   "outputs": [],
   "source": [
    "sentence_edge = sentence[3]"
   ]
  },
  {
   "cell_type": "code",
   "execution_count": 12,
   "metadata": {},
   "outputs": [
    {
     "data": {
      "text/plain": [
       "(5, 6, 'V')"
      ]
     },
     "execution_count": 12,
     "metadata": {},
     "output_type": "execute_result"
    }
   ],
   "source": [
    "sentence_edge"
   ]
  },
  {
   "cell_type": "code",
   "execution_count": 13,
   "metadata": {},
   "outputs": [],
   "source": [
    "corrupted_sentence_edge = corrupt_edge(sentence_edge, reber_edges)"
   ]
  },
  {
   "cell_type": "code",
   "execution_count": 14,
   "metadata": {},
   "outputs": [
    {
     "data": {
      "text/plain": [
       "(5, 6, 'B')"
      ]
     },
     "execution_count": 14,
     "metadata": {},
     "output_type": "execute_result"
    }
   ],
   "source": [
    "corrupted_sentence_edge"
   ]
  },
  {
   "cell_type": "code",
   "execution_count": 15,
   "metadata": {},
   "outputs": [],
   "source": [
    "corrupted_sentence = corrupt_sentence(sentence, reber_edges, 2)"
   ]
  },
  {
   "cell_type": "code",
   "execution_count": 16,
   "metadata": {},
   "outputs": [
    {
     "data": {
      "text/plain": [
       "((0, 1, 'X'), (1, 3, 'B'), (3, 5, 'V'), (5, 6, 'V'), (6, None, 'E'))"
      ]
     },
     "execution_count": 16,
     "metadata": {},
     "output_type": "execute_result"
    }
   ],
   "source": [
    "corrupted_sentence"
   ]
  },
  {
   "cell_type": "markdown",
   "metadata": {},
   "source": [
    "## Embedder Reber Grammar"
   ]
  },
  {
   "cell_type": "code",
   "execution_count": 17,
   "metadata": {},
   "outputs": [],
   "source": [
    "embedded_reber_edges = ((0,1,'B'), (1,2,'T'), (1,3,'P'), (2,4,reber_edges), (3,5,reber_edges), (4,6, 'T'), (5,6,'P'), (6,None,'E'))"
   ]
  },
  {
   "cell_type": "code",
   "execution_count": 18,
   "metadata": {},
   "outputs": [],
   "source": [
    "embedded_reber_edges = flatten_embedded_edges(embedded_reber_edges)"
   ]
  },
  {
   "cell_type": "code",
   "execution_count": 19,
   "metadata": {},
   "outputs": [
    {
     "data": {
      "text/plain": [
       "((0, 1, 'B'),\n",
       " (1, 2, 'T'),\n",
       " (1, 3, 'P'),\n",
       " (2, '2-1', 'B'),\n",
       " ('2-1', '2-2', 'T'),\n",
       " ('2-1', '2-3', 'P'),\n",
       " ('2-2', '2-2', 'S'),\n",
       " ('2-2', '2-4', 'X'),\n",
       " ('2-3', '2-3', 'T'),\n",
       " ('2-3', '2-5', 'V'),\n",
       " ('2-4', '2-3', 'X'),\n",
       " ('2-4', '2-6', 'S'),\n",
       " ('2-5', '2-4', 'P'),\n",
       " ('2-5', '2-6', 'V'),\n",
       " ('2-6', 4, 'E'),\n",
       " (3, '3-1', 'B'),\n",
       " ('3-1', '3-2', 'T'),\n",
       " ('3-1', '3-3', 'P'),\n",
       " ('3-2', '3-2', 'S'),\n",
       " ('3-2', '3-4', 'X'),\n",
       " ('3-3', '3-3', 'T'),\n",
       " ('3-3', '3-5', 'V'),\n",
       " ('3-4', '3-3', 'X'),\n",
       " ('3-4', '3-6', 'S'),\n",
       " ('3-5', '3-4', 'P'),\n",
       " ('3-5', '3-6', 'V'),\n",
       " ('3-6', 5, 'E'),\n",
       " (4, 6, 'T'),\n",
       " (5, 6, 'P'),\n",
       " (6, None, 'E'))"
      ]
     },
     "execution_count": 19,
     "metadata": {},
     "output_type": "execute_result"
    }
   ],
   "source": [
    "embedded_reber_edges"
   ]
  },
  {
   "cell_type": "code",
   "execution_count": 20,
   "metadata": {},
   "outputs": [],
   "source": [
    "node_dict = dict_from_edges(embedded_reber_edges)"
   ]
  },
  {
   "cell_type": "code",
   "execution_count": 21,
   "metadata": {},
   "outputs": [
    {
     "data": {
      "text/plain": [
       "defaultdict(list,\n",
       "            {0: [(1, 'B')],\n",
       "             1: [(2, 'T'), (3, 'P')],\n",
       "             2: [('2-1', 'B')],\n",
       "             '2-1': [('2-2', 'T'), ('2-3', 'P')],\n",
       "             '2-2': [('2-2', 'S'), ('2-4', 'X')],\n",
       "             '2-3': [('2-3', 'T'), ('2-5', 'V')],\n",
       "             '2-4': [('2-3', 'X'), ('2-6', 'S')],\n",
       "             '2-5': [('2-4', 'P'), ('2-6', 'V')],\n",
       "             '2-6': [(4, 'E')],\n",
       "             3: [('3-1', 'B')],\n",
       "             '3-1': [('3-2', 'T'), ('3-3', 'P')],\n",
       "             '3-2': [('3-2', 'S'), ('3-4', 'X')],\n",
       "             '3-3': [('3-3', 'T'), ('3-5', 'V')],\n",
       "             '3-4': [('3-3', 'X'), ('3-6', 'S')],\n",
       "             '3-5': [('3-4', 'P'), ('3-6', 'V')],\n",
       "             '3-6': [(5, 'E')],\n",
       "             4: [(6, 'T')],\n",
       "             5: [(6, 'P')],\n",
       "             6: [(None, 'E')]})"
      ]
     },
     "execution_count": 21,
     "metadata": {},
     "output_type": "execute_result"
    }
   ],
   "source": [
    "node_dict"
   ]
  },
  {
   "cell_type": "code",
   "execution_count": 22,
   "metadata": {},
   "outputs": [],
   "source": [
    "sentence = generate_sentence(node_dict)"
   ]
  },
  {
   "cell_type": "code",
   "execution_count": 23,
   "metadata": {},
   "outputs": [
    {
     "data": {
      "text/plain": [
       "((0, 1, 'B'),\n",
       " (1, 3, 'P'),\n",
       " (3, '3-1', 'B'),\n",
       " ('3-1', '3-3', 'P'),\n",
       " ('3-3', '3-5', 'V'),\n",
       " ('3-5', '3-4', 'P'),\n",
       " ('3-4', '3-3', 'X'),\n",
       " ('3-3', '3-5', 'V'),\n",
       " ('3-5', '3-6', 'V'),\n",
       " ('3-6', 5, 'E'),\n",
       " (5, 6, 'P'),\n",
       " (6, None, 'E'))"
      ]
     },
     "execution_count": 23,
     "metadata": {},
     "output_type": "execute_result"
    }
   ],
   "source": [
    "sentence"
   ]
  },
  {
   "cell_type": "code",
   "execution_count": 24,
   "metadata": {},
   "outputs": [
    {
     "data": {
      "text/plain": [
       "'BPBPVPXVVEPE'"
      ]
     },
     "execution_count": 24,
     "metadata": {},
     "output_type": "execute_result"
    }
   ],
   "source": [
    "string_from_sentence(sentence)"
   ]
  },
  {
   "cell_type": "code",
   "execution_count": 25,
   "metadata": {},
   "outputs": [
    {
     "data": {
      "text/plain": [
       "((0, 1, 'B'),\n",
       " (1, 3, 'P'),\n",
       " (3, '3-1', 'S'),\n",
       " ('3-1', '3-3', 'E'),\n",
       " ('3-3', '3-5', 'V'),\n",
       " ('3-5', '3-4', 'S'),\n",
       " ('3-4', '3-3', 'X'),\n",
       " ('3-3', '3-5', 'V'),\n",
       " ('3-5', '3-6', 'V'),\n",
       " ('3-6', 5, 'E'),\n",
       " (5, 6, 'P'),\n",
       " (6, None, 'E'))"
      ]
     },
     "execution_count": 25,
     "metadata": {},
     "output_type": "execute_result"
    }
   ],
   "source": [
    "corrupt_sentence(sentence, embedded_reber_edges, 3)"
   ]
  },
  {
   "cell_type": "markdown",
   "metadata": {},
   "source": [
    "## Generate Training Data"
   ]
  },
  {
   "cell_type": "markdown",
   "metadata": {},
   "source": [
    "We will write a generator function that produces a reber sentence. With equal probability, the sentence will be corrupted (label 0). If corrupted, the number of corruptions is randonmly determined."
   ]
  },
  {
   "cell_type": "code",
   "execution_count": 26,
   "metadata": {},
   "outputs": [],
   "source": [
    "def generate_reber_training_sample(max_corruptions, edges, node_dict, allowed_chars):\n",
    "    sentence = generate_sentence(node_dict)\n",
    "    if random() < .5:\n",
    "        num_corruptions = choice(range(1,max_corruptions+1))\n",
    "        sentence = corrupt_sentence(sentence, edges, num_corruptions)\n",
    "        label = 0\n",
    "    else:\n",
    "        label = 1\n",
    "    s = string_from_sentence(sentence)\n",
    "    x = string_to_ids(s, allowed_chars)\n",
    "    x = tf.ragged.constant(x, dtype=tf.int8, ragged_rank=0)\n",
    "    y = tf.constant(label, dtype=tf.int8)\n",
    "    return (x, y)"
   ]
  },
  {
   "cell_type": "code",
   "execution_count": 27,
   "metadata": {},
   "outputs": [],
   "source": [
    "def training_data_generator(max_corruptions, edges, n=10000):\n",
    "    node_dict = dict_from_edges(edges)\n",
    "    allowed_chars = unique_letters(edges)\n",
    "    for i in range(n):\n",
    "        yield generate_reber_training_sample(max_corruptions, edges, node_dict, allowed_chars)"
   ]
  },
  {
   "cell_type": "markdown",
   "metadata": {},
   "source": [
    "## Train a model"
   ]
  },
  {
   "cell_type": "code",
   "execution_count": 28,
   "metadata": {},
   "outputs": [],
   "source": [
    "max_corruptions = 3\n",
    "embedding_size = 5\n",
    "input_dim = len(unique_letters(embedded_reber_edges)) + 1"
   ]
  },
  {
   "cell_type": "code",
   "execution_count": 29,
   "metadata": {},
   "outputs": [],
   "source": [
    "data = tf.data.Dataset.from_generator(lambda: training_data_generator(max_corruptions, embedded_reber_edges),\n",
    "                                     output_types=(tf.int8, tf.int8), output_shapes=(tf.TensorShape([None]), tf.TensorShape([])))"
   ]
  },
  {
   "cell_type": "code",
   "execution_count": 30,
   "metadata": {},
   "outputs": [],
   "source": [
    "data = data.padded_batch(32).prefetch(1)"
   ]
  },
  {
   "cell_type": "code",
   "execution_count": 31,
   "metadata": {},
   "outputs": [],
   "source": [
    "model = keras.models.Sequential([\n",
    "    keras.layers.Embedding(input_dim=input_dim, output_dim=embedding_size, mask_zero=True),\n",
    "    keras.layers.GRU(30),\n",
    "    keras.layers.Dense(1, activation=\"sigmoid\")\n",
    "])"
   ]
  },
  {
   "cell_type": "code",
   "execution_count": 32,
   "metadata": {},
   "outputs": [],
   "source": [
    "optimizer = keras.optimizers.Nadam(learning_rate = 0.01)\n",
    "model.compile(loss=\"binary_crossentropy\", optimizer=optimizer, metrics=[\"accuracy\"])"
   ]
  },
  {
   "cell_type": "code",
   "execution_count": 33,
   "metadata": {},
   "outputs": [
    {
     "name": "stdout",
     "output_type": "stream",
     "text": [
      "Epoch 1/20\n",
      "313/313 [==============================] - 3s 10ms/step - loss: 0.4677 - accuracy: 0.7621\n",
      "Epoch 2/20\n",
      "313/313 [==============================] - 3s 10ms/step - loss: 0.2404 - accuracy: 0.9136\n",
      "Epoch 3/20\n",
      "313/313 [==============================] - 3s 10ms/step - loss: 0.1951 - accuracy: 0.9361\n",
      "Epoch 4/20\n",
      "313/313 [==============================] - 3s 10ms/step - loss: 0.1277 - accuracy: 0.9599\n",
      "Epoch 5/20\n",
      "313/313 [==============================] - 3s 10ms/step - loss: 0.1172 - accuracy: 0.9675\n",
      "Epoch 6/20\n",
      "313/313 [==============================] - 3s 10ms/step - loss: 0.0531 - accuracy: 0.9878\n",
      "Epoch 7/20\n",
      "313/313 [==============================] - 3s 10ms/step - loss: 0.0420 - accuracy: 0.9909\n",
      "Epoch 8/20\n",
      "313/313 [==============================] - 3s 10ms/step - loss: 0.0525 - accuracy: 0.9862\n",
      "Epoch 9/20\n",
      "313/313 [==============================] - 3s 11ms/step - loss: 0.0270 - accuracy: 0.9934\n",
      "Epoch 10/20\n",
      "313/313 [==============================] - 3s 10ms/step - loss: 0.0201 - accuracy: 0.9956\n",
      "Epoch 11/20\n",
      "313/313 [==============================] - 3s 11ms/step - loss: 0.0292 - accuracy: 0.9937\n",
      "Epoch 12/20\n",
      "313/313 [==============================] - 4s 12ms/step - loss: 0.0211 - accuracy: 0.9948 \n",
      "Epoch 13/20\n",
      "313/313 [==============================] - 4s 14ms/step - loss: 0.0266 - accuracy: 0.9948ETA: 0s - loss: 0.0284 \n",
      "Epoch 14/20\n",
      "313/313 [==============================] - 4s 13ms/step - loss: 0.0148 - accuracy: 0.9975\n",
      "Epoch 15/20\n",
      "313/313 [==============================] - 3s 10ms/step - loss: 0.0135 - accuracy: 0.9978\n",
      "Epoch 16/20\n",
      "313/313 [==============================] - 5s 14ms/step - loss: 0.0103 - accuracy: 0.9983\n",
      "Epoch 17/20\n",
      "313/313 [==============================] - 4s 12ms/step - loss: 0.0129 - accuracy: 0.9976\n",
      "Epoch 18/20\n",
      "313/313 [==============================] - 3s 11ms/step - loss: 0.0227 - accuracy: 0.9936\n",
      "Epoch 19/20\n",
      "313/313 [==============================] - 4s 12ms/step - loss: 0.0123 - accuracy: 0.9976\n",
      "Epoch 20/20\n",
      "313/313 [==============================] - 5s 17ms/step - loss: 0.0449 - accuracy: 0.9893\n"
     ]
    }
   ],
   "source": [
    "history = model.fit(data, epochs=20)"
   ]
  },
  {
   "cell_type": "markdown",
   "metadata": {},
   "source": [
    "Let's see how well an LSTM layer works"
   ]
  },
  {
   "cell_type": "code",
   "execution_count": 34,
   "metadata": {},
   "outputs": [],
   "source": [
    "model_lstm = keras.models.Sequential([\n",
    "    keras.layers.Embedding(input_dim=input_dim, output_dim=embedding_size, mask_zero=True),\n",
    "    keras.layers.LSTM(30),\n",
    "    keras.layers.Dense(1, activation=\"sigmoid\")\n",
    "])"
   ]
  },
  {
   "cell_type": "code",
   "execution_count": 35,
   "metadata": {},
   "outputs": [],
   "source": [
    "model_lstm.compile(loss=\"binary_crossentropy\", optimizer=optimizer, metrics=[\"accuracy\"])"
   ]
  },
  {
   "cell_type": "code",
   "execution_count": 36,
   "metadata": {},
   "outputs": [
    {
     "name": "stdout",
     "output_type": "stream",
     "text": [
      "Epoch 1/20\n",
      "313/313 [==============================] - 4s 12ms/step - loss: 0.3276 - accuracy: 0.8328\n",
      "Epoch 2/20\n",
      "313/313 [==============================] - 3s 10ms/step - loss: 0.0418 - accuracy: 0.9901\n",
      "Epoch 3/20\n",
      "313/313 [==============================] - 3s 11ms/step - loss: 0.0155 - accuracy: 0.9973\n",
      "Epoch 4/20\n",
      "313/313 [==============================] - 4s 13ms/step - loss: 0.0438 - accuracy: 0.9867\n",
      "Epoch 5/20\n",
      "313/313 [==============================] - 4s 13ms/step - loss: 0.0257 - accuracy: 0.9938 2s - los\n",
      "Epoch 6/20\n",
      "313/313 [==============================] - 4s 13ms/step - loss: 0.0038 - accuracy: 0.9992\n",
      "Epoch 7/20\n",
      "313/313 [==============================] - 5s 17ms/step - loss: 0.0155 - accuracy: 0.9962\n",
      "Epoch 8/20\n",
      "313/313 [==============================] - 4s 11ms/step - loss: 0.0015 - accuracy: 0.9999 0s -\n",
      "Epoch 9/20\n",
      "313/313 [==============================] - 4s 11ms/step - loss: 0.0046 - accuracy: 0.9987\n",
      "Epoch 10/20\n",
      "313/313 [==============================] - 4s 12ms/step - loss: 4.4320e-04 - accuracy: 0.9999\n",
      "Epoch 11/20\n",
      "313/313 [==============================] - 3s 11ms/step - loss: 0.0013 - accuracy: 0.9998\n",
      "Epoch 12/20\n",
      "313/313 [==============================] - 4s 11ms/step - loss: 0.0039 - accuracy: 0.9988\n",
      "Epoch 13/20\n",
      "313/313 [==============================] - 3s 11ms/step - loss: 0.0146 - accuracy: 0.9969\n",
      "Epoch 14/20\n",
      "313/313 [==============================] - 4s 14ms/step - loss: 0.0145 - accuracy: 0.9972 1s - l -\n",
      "Epoch 15/20\n",
      "313/313 [==============================] - 4s 13ms/step - loss: 8.2127e-04 - accuracy: 0.9999 0s - loss: 8.4728e-0\n",
      "Epoch 16/20\n",
      "313/313 [==============================] - 4s 14ms/step - loss: 7.5741e-04 - accuracy: 0.9999\n",
      "Epoch 17/20\n",
      "313/313 [==============================] - 4s 13ms/step - loss: 0.0071 - accuracy: 0.9984 \n",
      "Epoch 18/20\n",
      "313/313 [==============================] - 4s 14ms/step - loss: 0.0067 - accuracy: 0.9982\n",
      "Epoch 19/20\n",
      "313/313 [==============================] - 4s 12ms/step - loss: 3.5343e-04 - accuracy: 1.0000\n",
      "Epoch 20/20\n",
      "313/313 [==============================] - 4s 12ms/step - loss: 2.1495e-04 - accuracy: 1.0000\n"
     ]
    }
   ],
   "source": [
    "history_lstm = model_lstm.fit(data, epochs=20)"
   ]
  },
  {
   "cell_type": "markdown",
   "metadata": {},
   "source": [
    "Finally, let's try a SimpleRNN"
   ]
  },
  {
   "cell_type": "code",
   "execution_count": 38,
   "metadata": {},
   "outputs": [],
   "source": [
    "model_rnn = keras.models.Sequential([\n",
    "    keras.layers.Embedding(input_dim=input_dim, output_dim=embedding_size, mask_zero=True),\n",
    "    keras.layers.SimpleRNN(30, return_sequences=True),\n",
    "    keras.layers.SimpleRNN(30, return_sequences=True),\n",
    "    keras.layers.SimpleRNN(30),\n",
    "    keras.layers.Dense(1, activation=\"sigmoid\")\n",
    "])"
   ]
  },
  {
   "cell_type": "code",
   "execution_count": 39,
   "metadata": {},
   "outputs": [],
   "source": [
    "model_rnn.compile(loss=\"binary_crossentropy\", optimizer=optimizer, metrics=[\"accuracy\"])"
   ]
  },
  {
   "cell_type": "code",
   "execution_count": 40,
   "metadata": {},
   "outputs": [
    {
     "name": "stdout",
     "output_type": "stream",
     "text": [
      "Epoch 1/20\n",
      "313/313 [==============================] - 30s 95ms/step - loss: 0.7054 - accuracy: 0.5029\n",
      "Epoch 2/20\n",
      "313/313 [==============================] - 28s 91ms/step - loss: 0.6914 - accuracy: 0.5115\n",
      "Epoch 3/20\n",
      "313/313 [==============================] - 27s 88ms/step - loss: 0.6891 - accuracy: 0.5157\n",
      "Epoch 4/20\n",
      "313/313 [==============================] - 28s 88ms/step - loss: 0.6892 - accuracy: 0.5136\n",
      "Epoch 5/20\n",
      "313/313 [==============================] - 28s 88ms/step - loss: 0.6881 - accuracy: 0.5193\n",
      "Epoch 6/20\n",
      "313/313 [==============================] - 27s 87ms/step - loss: 0.6866 - accuracy: 0.50931s\n",
      "Epoch 7/20\n",
      "313/313 [==============================] - 28s 90ms/step - loss: 0.6892 - accuracy: 0.5043\n",
      "Epoch 8/20\n",
      "313/313 [==============================] - 28s 88ms/step - loss: 0.6869 - accuracy: 0.5108\n",
      "Epoch 9/20\n",
      "313/313 [==============================] - 27s 88ms/step - loss: 0.6900 - accuracy: 0.5057\n",
      "Epoch 10/20\n",
      "313/313 [==============================] - 28s 89ms/step - loss: 0.6888 - accuracy: 0.5025\n",
      "Epoch 11/20\n",
      "313/313 [==============================] - 28s 89ms/step - loss: 0.6881 - accuracy: 0.5087\n",
      "Epoch 12/20\n",
      "313/313 [==============================] - 30s 97ms/step - loss: 0.6869 - accuracy: 0.5120\n",
      "Epoch 13/20\n",
      "313/313 [==============================] - 31s 99ms/step - loss: 0.6879 - accuracy: 0.5142\n",
      "Epoch 14/20\n",
      "313/313 [==============================] - 29s 94ms/step - loss: 0.6878 - accuracy: 0.4969\n",
      "Epoch 15/20\n",
      "313/313 [==============================] - 29s 92ms/step - loss: 0.6862 - accuracy: 0.5144\n",
      "Epoch 16/20\n",
      "313/313 [==============================] - 29s 92ms/step - loss: 0.6877 - accuracy: 0.5106\n",
      "Epoch 17/20\n",
      "313/313 [==============================] - 29s 92ms/step - loss: 0.6881 - accuracy: 0.5080\n",
      "Epoch 18/20\n",
      "313/313 [==============================] - 28s 90ms/step - loss: 0.6878 - accuracy: 0.5129\n",
      "Epoch 19/20\n",
      "313/313 [==============================] - 29s 93ms/step - loss: 0.6885 - accuracy: 0.5064\n",
      "Epoch 20/20\n",
      "313/313 [==============================] - 29s 91ms/step - loss: 0.6871 - accuracy: 0.5102\n"
     ]
    }
   ],
   "source": [
    "history_rnn = model_rnn.fit(data, epochs=20)"
   ]
  },
  {
   "cell_type": "code",
   "execution_count": null,
   "metadata": {},
   "outputs": [],
   "source": []
  }
 ],
 "metadata": {
  "kernelspec": {
   "display_name": "tf2 (Python 3.7.8)",
   "language": "python",
   "name": "tf2"
  },
  "language_info": {
   "codemirror_mode": {
    "name": "ipython",
    "version": 3
   },
   "file_extension": ".py",
   "mimetype": "text/x-python",
   "name": "python",
   "nbconvert_exporter": "python",
   "pygments_lexer": "ipython3",
   "version": "3.7.8"
  }
 },
 "nbformat": 4,
 "nbformat_minor": 5
}
